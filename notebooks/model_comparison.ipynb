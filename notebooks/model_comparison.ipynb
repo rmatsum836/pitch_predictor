{
 "cells": [
  {
   "cell_type": "code",
   "execution_count": null,
   "metadata": {},
   "outputs": [],
   "source": [
    "from automatic_pitch import model, movement, plotting\n",
    "\n",
    "from sklearn.model_selection import train_test_split\n",
    "from sklearn.linear_model import LogisticRegression\n",
    "from sklearn import preprocessing\n",
    "from sklearn.ensemble import RandomForestClassifier\n",
    "from sklearn.metrics import accuracy_score, confusion_matrix\n",
    "\n",
    "from imblearn.under_sampling import ClusterCentroids\n",
    "from imblearn.over_sampling import RandomOverSampler, SMOTE, ADASYN\n",
    "\n",
    "import pandas as pd\n",
    "import numpy as np\n",
    "import matplotlib.pyplot as plt"
   ]
  },
  {
   "cell_type": "markdown",
   "metadata": {},
   "source": [
    "## Model Comparison\n",
    "Previously I explored the effect of using oversampling on improving the classification of baseball pitches.  Now I'm going to take a deeper dive into comparing models and seeing which is more effective."
   ]
  },
  {
   "cell_type": "code",
   "execution_count": null,
   "metadata": {},
   "outputs": [],
   "source": [
    "start = '2020-09-01'\n",
    "end = '2020-09-10'\n",
    "data = model.get_pitches(start, end)"
   ]
  },
  {
   "cell_type": "code",
   "execution_count": null,
   "metadata": {},
   "outputs": [],
   "source": [
    "columns = list(data.columns)\n",
    "columns_keep = ['pitch_type', \n",
    "                'release_speed',\n",
    "                'p_throws',\n",
    "                'release_pos_x',\n",
    "                'release_pos_z',\n",
    "                'pfx_x',\n",
    "                'pfx_z',\n",
    "                'plate_x',\n",
    "                'plate_z',\n",
    "                'zone',\n",
    "                'vx0',\n",
    "                'vy0',\n",
    "                'vz0',\n",
    "                'ax',\n",
    "                'ay',\n",
    "                'az',\n",
    "                'release_spin_rate',\n",
    "                'release_extension',\n",
    "                'release_pos_y'\n",
    "               ]\n",
    "\n",
    "# Drop dolumns not in `columns_keep`\n",
    "col_to_drop = model.remove_columns(columns, columns_keep)\n",
    "data = data.drop(col_to_drop, axis=1)"
   ]
  },
  {
   "cell_type": "code",
   "execution_count": null,
   "metadata": {},
   "outputs": [],
   "source": [
    "# Add movement in x and z directions\n",
    "v_o = np.array([data.vx0, data.vy0, data.vz0])\n",
    "p_o = np.array([data.release_pos_x, data.release_pos_y, data.release_pos_z])\n",
    "a = np.array([data.ax, data.ay, data.az])\n",
    "dx, dz, dzg = movement.calc_movement(p_o, v_o, a)\n",
    "data['movement_x'] = dx\n",
    "data['movement_z'] = dz\n",
    "\n",
    "# Remove data points that have no pitch_type\n",
    "data = data.dropna(subset=['pitch_type', \"release_extension\"])\n",
    "pitch_types = list(data.pitch_type.values)\n",
    "\n",
    "#Creating the dependent variable class\n",
    "factor = pd.factorize(data['pitch_type'])\n",
    "data['pitch_type'] = factor[0]\n",
    "definitions = factor[1]\n",
    "print(set(data.pitch_type))\n",
    "print(definitions)"
   ]
  },
  {
   "cell_type": "code",
   "execution_count": null,
   "metadata": {},
   "outputs": [],
   "source": [
    "# Plot movement_x for right-handed pitchers\n",
    "fig, ax = plt.subplots()\n",
    "#ax.hist(data[\"movement_z\"][(data[\"p_throws\"] == 'L')], alpha=0.5, color='k', bins=50)\n",
    "ax.hist(data[\"pfx_z\"][(data[\"p_throws\"] == 'L')]- data[\"movement_z\"][(data[\"p_throws\"] == 'L')], alpha=0.5, color='k', bins=50)\n",
    "#ax.hist(data[\"pfx_z\"][(data[\"p_throws\"] == 'L')], alpha=0.5, bins=50, color='b')"
   ]
  },
  {
   "cell_type": "code",
   "execution_count": null,
   "metadata": {},
   "outputs": [],
   "source": [
    "# Plot movement_x for right-handed pitchers\n",
    "fig = plt.figure()\n",
    "fig.subplots_adjust(hspace=0.7, wspace=0.4)\n",
    "for i in range(1, 10):\n",
    "    ax = fig.add_subplot(3, 3, i)\n",
    "    ax.set_title(definitions[i-1])\n",
    "    ax.hist(data[\"movement_x\"][(data[\"pitch_type\"] == (i-1)) & (data[\"p_throws\"] == 'R')], alpha=0.5, bins=50)\n",
    "    ax.hist(data[\"pfx_x\"][(data[\"pitch_type\"] == (i-1)) & (data[\"p_throws\"] == 'R')], alpha=0.5, bins=50)\n",
    "    ax.set_xlim((-2, 2))\n",
    "plt.tight_layout()"
   ]
  },
  {
   "cell_type": "code",
   "execution_count": null,
   "metadata": {},
   "outputs": [],
   "source": [
    "# Plot movement_x for left-handed pitchers\n",
    "fig = plt.figure()\n",
    "fig.subplots_adjust(hspace=0.7, wspace=0.4)\n",
    "for i in range(1, 10):\n",
    "    ax = fig.add_subplot(3, 3, i)\n",
    "    ax.set_title(definitions[i-1])\n",
    "    ax.hist(data[\"movement_x\"][(data[\"pitch_type\"] == (i-1)) & (data[\"p_throws\"] == 'L')], alpha=0.5, bins=50)\n",
    "    ax.hist(data[\"pfx_x\"][(data[\"pitch_type\"] == (i-1)) & (data[\"p_throws\"] == 'L')], alpha=0.5, bins=50)\n",
    "    ax.set_xlim((-2, 2))\n",
    "plt.tight_layout()"
   ]
  },
  {
   "cell_type": "code",
   "execution_count": null,
   "metadata": {},
   "outputs": [],
   "source": [
    "# Plot movement_z\n",
    "fig = plt.figure()\n",
    "fig.subplots_adjust(hspace=0.7, wspace=0.4)\n",
    "for i in range(1, 10):\n",
    "    ax = fig.add_subplot(3, 3, i)\n",
    "    ax.set_title(definitions[i-1])\n",
    "    ax.hist(data[\"movement_z\"][(data[\"pitch_type\"] == (i-1))], alpha=0.5, bins=50)\n",
    "    ax.hist(data[\"pfx_z\"][(data[\"pitch_type\"] == (i-1))], alpha=0.5, bins=50)\n",
    "    ax.set_xlim((-2, 2))\n",
    "plt.tight_layout()"
   ]
  },
  {
   "cell_type": "markdown",
   "metadata": {},
   "source": [
    "Need to better understand the shifts between pfx and the movements I calculated"
   ]
  },
  {
   "cell_type": "code",
   "execution_count": null,
   "metadata": {},
   "outputs": [],
   "source": [
    "(data[\"pfx_z\"], data[\"movement_z\"])"
   ]
  },
  {
   "cell_type": "code",
   "execution_count": null,
   "metadata": {},
   "outputs": [],
   "source": [
    "# Split the data into the features (X) and the label to predict (y)\n",
    "y = data['pitch_type']\n",
    "X = data.loc[:, data.columns != 'pitch_type']\n",
    "\n",
    "# Now use `train_test_split` in scikit-learn to split the data into training and testing data\n",
    "X_train, X_test, y_train, y_test = train_test_split(X, y, test_size=0.35, random_state=0)\n",
    "\n",
    "# Balance the data using imblearn\n",
    "X_resampled, y_resampled = RandomOverSampler(sampling_strategy='not majority', random_state=123).fit_resample(X_train,y_train)"
   ]
  },
  {
   "cell_type": "markdown",
   "metadata": {},
   "source": [
    "## Logistic Regression"
   ]
  },
  {
   "cell_type": "code",
   "execution_count": null,
   "metadata": {},
   "outputs": [],
   "source": [
    "logreg = LogisticRegression(max_iter=1000)\n",
    "logreg.fit(X_resampled, y_resampled)\n",
    "\n",
    "logreg_predictions = logreg.predict(X_test)"
   ]
  },
  {
   "cell_type": "code",
   "execution_count": null,
   "metadata": {},
   "outputs": [],
   "source": [
    "score = logreg.score(X_test, y_test)\n",
    "print(score)"
   ]
  },
  {
   "cell_type": "code",
   "execution_count": null,
   "metadata": {},
   "outputs": [],
   "source": [
    "#Reverse factorize (converting y_pred from 0s,1s and 2s\n",
    "reversefactor = dict(zip(range(len(definitions)),definitions))\n",
    "y_update = np.vectorize(reversefactor.get)(y_test)\n",
    "logreg_update = np.vectorize(reversefactor.get)(logreg_predictions)\n",
    "\n",
    "# Plot confusion matrix\n",
    "cnf_matrix = confusion_matrix(y_update, logreg_update)\n",
    "plotting.plot_confusion_matrix(cnf_matrix, classes=list(set(data.pitch_type)), normalize=True,\n",
    "                      title='Normalized confusion matrix')"
   ]
  },
  {
   "cell_type": "code",
   "execution_count": null,
   "metadata": {},
   "outputs": [],
   "source": [
    "# Run Random Forest Model\n",
    "\"\"\"rf = RandomForestClassifier(n_estimators=100,\n",
    "                           oob_score=True,\n",
    "                           random_state=0)\n",
    "\n",
    "rf.fit(X_resampled, y_resampled)\n",
    "\n",
    "rf_predictions = rf.predict(X_test)\n",
    "\n",
    "#Reverse factorize (converting y_pred from 0s,1s and 2s\n",
    "reversefactor = dict(zip(range(len(definitions)),definitions))\n",
    "y_update = np.vectorize(reversefactor.get)(y_test)\n",
    "rf_update = np.vectorize(reversefactor.get)(rf_predictions)\n",
    "# Making the Confusion Matrix\n",
    "print(pd.crosstab(y_update, rf_update, rownames=['Actual Pitches'], colnames=['Predicted Pitches']))\n",
    "\"\"\""
   ]
  }
 ],
 "metadata": {
  "kernelspec": {
   "display_name": "Python 3",
   "language": "python",
   "name": "python3"
  },
  "language_info": {
   "codemirror_mode": {
    "name": "ipython",
    "version": 3
   },
   "file_extension": ".py",
   "mimetype": "text/x-python",
   "name": "python",
   "nbconvert_exporter": "python",
   "pygments_lexer": "ipython3",
   "version": "3.7.9"
  }
 },
 "nbformat": 4,
 "nbformat_minor": 4
}

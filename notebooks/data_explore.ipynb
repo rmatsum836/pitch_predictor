{
 "cells": [
  {
   "cell_type": "code",
   "execution_count": null,
   "metadata": {},
   "outputs": [],
   "source": [
    "from automatic_pitch import model, movement, plotting\n",
    "from automatic_pitch.utils import get_color\n",
    "\n",
    "from sklearn.model_selection import train_test_split\n",
    "from sklearn.linear_model import LogisticRegression\n",
    "from sklearn import preprocessing\n",
    "from sklearn.ensemble import RandomForestClassifier\n",
    "from sklearn.metrics import accuracy_score, confusion_matrix\n",
    "\n",
    "from scipy.stats import pearsonr\n",
    "\n",
    "from imblearn.under_sampling import ClusterCentroids\n",
    "from imblearn.over_sampling import RandomOverSampler, SMOTE, ADASYN\n",
    "\n",
    "import pandas as pd\n",
    "import numpy as np\n",
    "import matplotlib.pyplot as plt"
   ]
  },
  {
   "cell_type": "code",
   "execution_count": null,
   "metadata": {},
   "outputs": [],
   "source": [
    "# TODO: Raise error if end < start\n",
    "start = '2019-08-01'\n",
    "end = '2019-09-01'\n",
    "data = model.get_pitches(start, end)"
   ]
  },
  {
   "cell_type": "code",
   "execution_count": null,
   "metadata": {},
   "outputs": [],
   "source": [
    "# Add movement in x and z directions\n",
    "# Taking the absolute value is important\n",
    "v_o = np.array([np.abs(data.vx0), data.vy0, data.vz0])\n",
    "p_o = np.array([data.release_pos_x, data.release_pos_y, data.release_pos_z])\n",
    "a = np.array([np.abs(data.ax), data.ay, data.az])\n",
    "dx, dz, dzg = movement.calc_movement(p_o, v_o, a)\n",
    "data['movement_x'] = dx\n",
    "data['movement_z'] = dz\n",
    "\n",
    "# Remove data points that have no pitch_type\n",
    "data = data.dropna(subset=['pitch_type', \"release_extension\", \"release_spin_rate\"])\n",
    "#data = data.dropna()\n",
    "pitch_types = list(set(data.pitch_type.values))"
   ]
  },
  {
   "cell_type": "code",
   "execution_count": null,
   "metadata": {},
   "outputs": [],
   "source": [
    "columns = list(data.columns)\n",
    "columns_keep = ['pitch_type',\n",
    "                'pfx_z',\n",
    "                'game_date',\n",
    "                'pitcher',\n",
    "                'release_speed',\n",
    "                'p_throws',\n",
    "                'release_pos_x',\n",
    "                'release_pos_z',\n",
    "                'movement_x',\n",
    "                'movement_z',\n",
    "                'plate_x',\n",
    "                'plate_z',\n",
    "                'zone',\n",
    "                'vx0',\n",
    "                'vy0',\n",
    "                'vz0',\n",
    "                'ax',\n",
    "                'ay',\n",
    "                'az',\n",
    "                'release_spin_rate',\n",
    "                'release_extension',\n",
    "                'release_pos_y'\n",
    "               ]\n",
    "\n",
    "# Drop dolumns not in `columns_keep`\n",
    "col_to_drop = model.remove_columns(columns, columns_keep)\n",
    "data = data.drop(col_to_drop, axis=1)"
   ]
  },
  {
   "cell_type": "code",
   "execution_count": null,
   "metadata": {},
   "outputs": [],
   "source": [
    "np.where(data.isnull())"
   ]
  },
  {
   "cell_type": "markdown",
   "metadata": {},
   "source": [
    "## Univariate Analysis"
   ]
  },
  {
   "cell_type": "code",
   "execution_count": null,
   "metadata": {},
   "outputs": [],
   "source": [
    "var = \"movement_z\"\n",
    "fig = plt.figure(figsize=(7,7))\n",
    "fig.subplots_adjust(hspace=0.7, wspace=0.4)\n",
    "for i in range(1, 10):\n",
    "    ax = fig.add_subplot(4, 3, i)\n",
    "    ax.set_title(pitch_types[i-1])\n",
    "    ax.hist(data[var][(data[\"pitch_type\"] == pitch_types[i-1])], alpha=0.5, bins=50, color='k', density=True)\n",
    "plt.tight_layout()\n",
    "plt.xlabel(\"movement (ft)\")"
   ]
  },
  {
   "cell_type": "markdown",
   "metadata": {},
   "source": [
    "Fortunately, we have enough data and with the exception of ephus and forkballs, the distributions are normal.\n",
    "\n",
    "Here, we should mainly see the vertical movement as a result of magnus force.  A four-seam fastball is thrown with backspin which should result in an upward magnus force.  It makes sense then that the majority of four-seam fastballs have a positive z movement.  We see this similarly for changeups, though with lower movement due to a different grip. Curve balls are thrown with top-spin so we largely see negative z movement.  Sliders mainly have a horizontal spin, so we see that the z movement is centered around 0.  We see this slightly with a splitter as well.\n",
    "\n",
    "One thing I don't quite understand right now is the z movement of the sinker."
   ]
  },
  {
   "cell_type": "code",
   "execution_count": null,
   "metadata": {},
   "outputs": [],
   "source": [
    "var = \"movement_x\"\n",
    "fig = plt.figure(figsize=(7,7))\n",
    "fig.subplots_adjust(hspace=0.7, wspace=0.4)\n",
    "for i in range(1, 10):\n",
    "    ax = fig.add_subplot(4, 3, i)\n",
    "    ax.set_title(pitch_types[i-1])\n",
    "    x_axis = data[var][(data[\"pitch_type\"] == pitch_types[i-1])]\n",
    "    left = data[var][(data[\"pitch_type\"] == pitch_types[i-1]) & (data[\"p_throws\"] == \"L\")]\n",
    "    ax.hist(x_axis, alpha=0.5, bins=50, color='k', density=True)\n",
    "plt.tight_layout()\n",
    "plt.xlabel(\"movement (ft)\")"
   ]
  },
  {
   "cell_type": "markdown",
   "metadata": {},
   "source": [
    "Taking the absolute value of x movement correctly normalizes the data between the left and right handed pitchers.  The fastballs, changeups, sinkers, splitters, and two-seam fastballs have normal distributions.  Cutters, knuckle-curves, and sliders have right skew distributions."
   ]
  },
  {
   "cell_type": "code",
   "execution_count": null,
   "metadata": {},
   "outputs": [],
   "source": [
    "var = \"movement_x\"\n",
    "fig = plt.figure(figsize=(7,7))\n",
    "fig.subplots_adjust(hspace=0.7, wspace=0.4)\n",
    "for i in range(1, 10):\n",
    "    ax = fig.add_subplot(4, 3, i)\n",
    "    ax.set_title(pitch_types[i-1])\n",
    "    ax.hist(data[var][(data[\"pitch_type\"] == pitch_types[i-1]) & (data[\"p_throws\"] == \"R\")], alpha=0.5, bins=50, color='k', density=True)\n",
    "    ax.hist(data[var][(data[\"pitch_type\"] == pitch_types[i-1]) & (data[\"p_throws\"] == \"L\")], alpha=0.5, bins=50, color='b', density=True)\n",
    "plt.tight_layout()\n",
    "plt.xlabel(\"movement (ft)\")"
   ]
  },
  {
   "cell_type": "code",
   "execution_count": null,
   "metadata": {},
   "outputs": [],
   "source": [
    "var = \"movement_z\"\n",
    "fig, ax = plt.subplots()\n",
    "ax.hist(data[var], alpha=0.5, bins=100, color='k', density=True)\n",
    "plt.tight_layout()\n",
    "plt.xlabel(\"movement (ft)\")"
   ]
  },
  {
   "cell_type": "markdown",
   "metadata": {},
   "source": [
    "The bimodal distributions are due to the handedness of the pitchers.  Let's look at the absolute value of the x movements."
   ]
  },
  {
   "cell_type": "markdown",
   "metadata": {},
   "source": [
    "For the most part, these distributions seem normal.  The cutters"
   ]
  },
  {
   "cell_type": "code",
   "execution_count": null,
   "metadata": {},
   "outputs": [],
   "source": [
    "var = \"release_speed\"\n",
    "fig = plt.figure(figsize=(7,7))\n",
    "fig.subplots_adjust(hspace=0.7, wspace=0.4)\n",
    "for i in range(1, 11):\n",
    "    ax = fig.add_subplot(4, 3, i)\n",
    "    ax.set_title(pitch_types[i-1])\n",
    "    ax.hist(data[var][(data[\"pitch_type\"] == pitch_types[i-1])], alpha=0.5, bins=50, color='k', density=True)\n",
    "plt.tight_layout()\n",
    "plt.xlabel(\"movement (ft)\")"
   ]
  },
  {
   "cell_type": "code",
   "execution_count": null,
   "metadata": {
    "scrolled": true
   },
   "outputs": [],
   "source": [
    "var = \"release_spin_rate\"\n",
    "fig = plt.figure(figsize=(7,7))\n",
    "fig.subplots_adjust(hspace=0.7, wspace=0.4)\n",
    "for i in range(1, 10):\n",
    "    ax = fig.add_subplot(4, 3, i)\n",
    "    ax.set_title(pitch_types[i-1])\n",
    "    ax.hist(data[var][(data[\"pitch_type\"] == pitch_types[i-1])], alpha=0.5, bins=50, color='k', density=True)\n",
    "plt.tight_layout()\n",
    "plt.xlabel(\"movement (ft)\")"
   ]
  },
  {
   "cell_type": "code",
   "execution_count": null,
   "metadata": {},
   "outputs": [],
   "source": [
    "var = \"vy0\"\n",
    "fig = plt.figure(figsize=(7,7))\n",
    "fig.subplots_adjust(hspace=0.7, wspace=0.4)\n",
    "for i in range(1, 10):\n",
    "    ax = fig.add_subplot(4, 3, i)\n",
    "    ax.set_title(pitch_types[i-1])\n",
    "    ax.hist(data[var][(data[\"pitch_type\"] == pitch_types[i-1])], alpha=0.5, bins=50, color='k', density=True)\n",
    "plt.tight_layout()\n",
    "plt.xlabel(\"movement (ft)\")"
   ]
  },
  {
   "cell_type": "markdown",
   "metadata": {},
   "source": [
    "Checking the starting positions as a sanity check to make sure there aren't any faulty measurements.  All of these are normal distributions, so it seems like we don't need to discard any data."
   ]
  },
  {
   "cell_type": "code",
   "execution_count": null,
   "metadata": {},
   "outputs": [],
   "source": [
    "# This might be a good way to detect outliers\n",
    "fig = plt.figure(figsize=(7,7))\n",
    "fig.subplots_adjust(hspace=0.7, wspace=0.4)\n",
    "for i in range(1, 10):\n",
    "    ax = fig.add_subplot(4, 3, i)\n",
    "    ax.set_title(pitch_types[i-1])\n",
    "    ax.hist(data[\"movement_z\"][(data[\"pitch_type\"] == pitch_types[i-1])]/np.abs(data[\"movement_x\"][(data[\"pitch_type\"] == pitch_types[i-1])]), alpha=0.5, bins=50, color='k', density=True)\n",
    "    #ax.set_xlim((-100, 100))\n",
    "plt.tight_layout()\n",
    "plt.xlabel(\"movement (ft)\")\n"
   ]
  },
  {
   "cell_type": "markdown",
   "metadata": {},
   "source": [
    "Some of these pitches have a very high ratio, part of which is due to a very low movement in the x-direction.  Might need to investigate this more."
   ]
  },
  {
   "cell_type": "markdown",
   "metadata": {},
   "source": [
    "## Bivariate Analysis"
   ]
  },
  {
   "cell_type": "code",
   "execution_count": null,
   "metadata": {},
   "outputs": [],
   "source": [
    "fig = plt.figure(figsize=(10, 10))\n",
    "fig.subplots_adjust(hspace=0.7, wspace=0.4)\n",
    "for i in range(1, 10):\n",
    "    ax = fig.add_subplot(3, 3, i)\n",
    "    corr, _ = pearsonr(data[\"release_speed\"][data[\"pitch_type\"] == pitch_types[i-1]], data[\"release_spin_rate\"][data[\"pitch_type\"] == pitch_types[i-1]])\n",
    "    ax.set_title(f\"{pitch_types[i-1]}, pearsonr = {corr}\")\n",
    "    ax.scatter(data[\"release_speed\"][data[\"pitch_type\"] == pitch_types[i-1]], data[\"release_spin_rate\"][data[\"pitch_type\"] == pitch_types[i-1]])\n",
    "plt.tight_layout()\n",
    "plt.xlabel(\"movement (ft)\")"
   ]
  },
  {
   "cell_type": "markdown",
   "metadata": {},
   "source": [
    "Overall, the correlation between spin rate and speed is pretty low.  "
   ]
  },
  {
   "cell_type": "code",
   "execution_count": null,
   "metadata": {},
   "outputs": [],
   "source": [
    "x_var = \"movement_x\"\n",
    "y_var = \"movement_z\"\n",
    "fig = plt.figure(figsize=(10, 10))\n",
    "fig.subplots_adjust(hspace=0.7, wspace=0.4)\n",
    "for i in range(1, 10):\n",
    "    ax = fig.add_subplot(3, 3, i)\n",
    "    corr, _ = pearsonr(data[x_var][data[\"pitch_type\"] == pitch_types[i-1]], data[y_var][data[\"pitch_type\"] == pitch_types[i-1]])\n",
    "    ax.set_title(f\"{pitch_types[i-1]}, pearsonr = {corr}\")\n",
    "    ax.scatter(data[x_var][data[\"pitch_type\"] == pitch_types[i-1]], data[y_var][data[\"pitch_type\"] == pitch_types[i-1]])\n",
    "plt.tight_layout()\n",
    "plt.xlabel(\"movement (ft)\")"
   ]
  },
  {
   "cell_type": "markdown",
   "metadata": {},
   "source": [
    "There doesn't seem to be too many anomalous outiers here.  I do notice there is a cluster of fastballs that have quite a negative z-movement.  These might need to be removed as this doesn't seem to be expected of fastballs, which should have a high backspin and upwards magnus force"
   ]
  },
  {
   "cell_type": "code",
   "execution_count": null,
   "metadata": {},
   "outputs": [],
   "source": [
    "x_var = \"release_speed\"\n",
    "y_var = \"movement_z\"\n",
    "fig = plt.figure(figsize=(10, 10))\n",
    "fig.subplots_adjust(hspace=0.7, wspace=0.4)\n",
    "for i in range(1, 10):\n",
    "    ax = fig.add_subplot(3, 3, i)\n",
    "    corr, _ = pearsonr(data[x_var][data[\"pitch_type\"] == pitch_types[i-1]], data[y_var][data[\"pitch_type\"] == pitch_types[i-1]])\n",
    "    ax.set_title(f\"{pitch_types[i-1]}, pearsonr = {corr}\")\n",
    "    ax.scatter(data[x_var][data[\"pitch_type\"] == pitch_types[i-1]], data[y_var][data[\"pitch_type\"] == pitch_types[i-1]])\n",
    "plt.tight_layout()\n",
    "plt.xlabel(\"movement (ft)\")"
   ]
  },
  {
   "cell_type": "code",
   "execution_count": null,
   "metadata": {},
   "outputs": [],
   "source": [
    "data[(data[\"movement_z\"] < -0.5) & (data[\"pitch_type\"] == 'FF')]"
   ]
  },
  {
   "cell_type": "markdown",
   "metadata": {},
   "source": [
    "Interesting, the pitches with negative z-movement on fastballs is tied to a single player.  The player ID belongs to Tyler Rogers of the SF Giants.  Looking at this youtube video: https://www.youtube.com/watch?v=l1CGmjOpzRA, Rogers has a unique windup and throwing position.  I wonder if this is messing with the tracker slightly.\n",
    "\n",
    "What's even weirder is the zone that these pitches are landing in.  The zone of 13.0 indicates a pitch that is slightly inside.  However, the release point is not even a foot off the ground, and the z-movement is negative?"
   ]
  },
  {
   "cell_type": "code",
   "execution_count": null,
   "metadata": {},
   "outputs": [],
   "source": [
    "from pybaseball import statcast_pitcher\n",
    "\n",
    "rogers = statcast_pitcher('2019-04-01', '2020-11-01', 643511)"
   ]
  },
  {
   "cell_type": "code",
   "execution_count": null,
   "metadata": {},
   "outputs": [],
   "source": [
    "var = \"pfx_z\"\n",
    "fig, ax = plt.subplots()\n",
    "ax.hist(rogers[rogers[\"pitch_type\"] == \"FF\"][var], alpha=0.5, bins=100, color='k', density=True)\n",
    "plt.tight_layout()\n",
    "plt.xlabel(\"movement (ft)\")"
   ]
  },
  {
   "cell_type": "markdown",
   "metadata": {},
   "source": [
    "So it seems like these aren't an anomaly, so the tracker is probably properly working.  Upon thinking about this more, it might be that Rogers's release point is so low that his fastball is actually thrown with top-spin.  You can see an image of this here: https://www.mccoveychronicles.com/2020/11/24/21690851/san-francisco-giants-tyler-rogers-season-review.\n",
    "\n",
    "Normally fast balls are thrown with an overhand motion which causes the backspin on the ball.  It looks like Roger's release point is so low that it's almost as if he's throwing underhand and causing topspin.  I don't want to remove this data but it's something to keep in mind."
   ]
  },
  {
   "cell_type": "code",
   "execution_count": null,
   "metadata": {},
   "outputs": [],
   "source": [
    "x_var = \"release_spin_rate\"\n",
    "y_var = \"movement_x\"\n",
    "fig = plt.figure(figsize=(10, 10))\n",
    "fig.subplots_adjust(hspace=0.7, wspace=0.4)\n",
    "for i in range(1, 10):\n",
    "    ax = fig.add_subplot(3, 3, i)\n",
    "    corr, _ = pearsonr(data[x_var][data[\"pitch_type\"] == pitch_types[i-1]], np.abs(data[y_var][data[\"pitch_type\"] == pitch_types[i-1]]))\n",
    "    ax.set_title(f\"{pitch_types[i-1]}, pearsonr = {corr}\")\n",
    "    ax.scatter(data[x_var][data[\"pitch_type\"] == pitch_types[i-1]], np.abs(data[y_var][data[\"pitch_type\"] == pitch_types[i-1]]))\n",
    "plt.tight_layout()\n",
    "plt.xlabel(\"movement (ft)\")"
   ]
  },
  {
   "cell_type": "markdown",
   "metadata": {},
   "source": [
    "One last thing to check, I may combine the knuckle-curve and curveballs, as well as the splitter and two-seam fast balls."
   ]
  },
  {
   "cell_type": "code",
   "execution_count": null,
   "metadata": {},
   "outputs": [],
   "source": [
    "# Rename knuckle curves as curve balls and two-seam as sinker\n",
    "data.loc[(data.pitch_type == 'KC'),'pitch_type'] = \"CU\"\n",
    "data.loc[(data.pitch_type == 'FT'),'pitch_type'] = \"SI\""
   ]
  },
  {
   "cell_type": "code",
   "execution_count": null,
   "metadata": {},
   "outputs": [],
   "source": [
    "var = \"movement_x\"\n",
    "fig = plt.figure(figsize=(7,7))\n",
    "fig.subplots_adjust(hspace=0.7, wspace=0.4)\n",
    "for i in range(1, 10):\n",
    "    ax = fig.add_subplot(4, 3, i)\n",
    "    ax.set_title(pitch_types[i-1])\n",
    "    x_axis = data[var][(data[\"pitch_type\"] == pitch_types[i-1])]\n",
    "    left = data[var][(data[\"pitch_type\"] == pitch_types[i-1]) & (data[\"p_throws\"] == \"L\")]\n",
    "    ax.hist(x_axis, alpha=0.5, bins=50, color='k', density=True)\n",
    "plt.tight_layout()\n",
    "plt.xlabel(\"movement (ft)\")"
   ]
  },
  {
   "cell_type": "code",
   "execution_count": null,
   "metadata": {},
   "outputs": [],
   "source": [
    "var = \"movement_z\"\n",
    "fig = plt.figure(figsize=(7,7))\n",
    "fig.subplots_adjust(hspace=0.7, wspace=0.4)\n",
    "for i in range(1, 10):\n",
    "    ax = fig.add_subplot(4, 3, i)\n",
    "    ax.set_title(pitch_types[i-1])\n",
    "    x_axis = data[var][(data[\"pitch_type\"] == pitch_types[i-1])]\n",
    "    left = data[var][(data[\"pitch_type\"] == pitch_types[i-1]) & (data[\"p_throws\"] == \"L\")]\n",
    "    ax.hist(x_axis, alpha=0.5, bins=50, color='k', density=True)\n",
    "plt.tight_layout()\n",
    "plt.xlabel(\"movement (ft)\")"
   ]
  },
  {
   "cell_type": "code",
   "execution_count": null,
   "metadata": {},
   "outputs": [],
   "source": [
    "var = \"release_speed\"\n",
    "fig = plt.figure(figsize=(7,7))\n",
    "fig.subplots_adjust(hspace=0.7, wspace=0.4)\n",
    "for i in range(1, 10):\n",
    "    ax = fig.add_subplot(4, 3, i)\n",
    "    ax.set_title(pitch_types[i-1])\n",
    "    x_axis = data[var][(data[\"pitch_type\"] == pitch_types[i-1])]\n",
    "    left = data[var][(data[\"pitch_type\"] == pitch_types[i-1]) & (data[\"p_throws\"] == \"L\")]\n",
    "    ax.hist(x_axis, alpha=0.5, bins=50, color='k', density=True)\n",
    "plt.tight_layout()\n",
    "plt.xlabel(\"movement (ft)\")"
   ]
  },
  {
   "cell_type": "code",
   "execution_count": null,
   "metadata": {},
   "outputs": [],
   "source": [
    "var = \"release_spin_rate\"\n",
    "fig = plt.figure(figsize=(7,7))\n",
    "fig.subplots_adjust(hspace=0.7, wspace=0.4)\n",
    "for i in range(1, 10):\n",
    "    ax = fig.add_subplot(4, 3, i)\n",
    "    ax.set_title(pitch_types[i-1])\n",
    "    x_axis = data[var][(data[\"pitch_type\"] == pitch_types[i-1])]\n",
    "    left = data[var][(data[\"pitch_type\"] == pitch_types[i-1]) & (data[\"p_throws\"] == \"L\")]\n",
    "    ax.hist(x_axis, alpha=0.5, bins=50, color='k', density=True)\n",
    "plt.tight_layout()\n",
    "plt.xlabel(\"movement (ft)\")"
   ]
  },
  {
   "cell_type": "markdown",
   "metadata": {},
   "source": [
    "Based on these distributions, it seems we can safely merge these pitch types together."
   ]
  },
  {
   "cell_type": "markdown",
   "metadata": {},
   "source": [
    "## Conclusions\n",
    "- The majority of this data is normal, there are some skewed distributions\n",
    "- We take the absolute value of initial velocity and acceleration in x-direction to normalize the pitch data for right and left handers\n",
    "- For now, I'm going to not consider forkballs and ephus due to lack of data\n",
    "- Due to similar distributions, the knuckle-curves and curve balls have been merged, the splitter and two-seam fastball has also been merged.\n",
    "- A specific outlier was noticed for fastballs with submarine thrower Tyler Rogers.  I'm not going to remove his data but it's something to keep an eye out on as we run our models."
   ]
  },
  {
   "cell_type": "code",
   "execution_count": null,
   "metadata": {},
   "outputs": [],
   "source": []
  }
 ],
 "metadata": {
  "kernelspec": {
   "display_name": "Python 3",
   "language": "python",
   "name": "python3"
  },
  "language_info": {
   "codemirror_mode": {
    "name": "ipython",
    "version": 3
   },
   "file_extension": ".py",
   "mimetype": "text/x-python",
   "name": "python",
   "nbconvert_exporter": "python",
   "pygments_lexer": "ipython3",
   "version": "3.7.9"
  }
 },
 "nbformat": 4,
 "nbformat_minor": 4
}

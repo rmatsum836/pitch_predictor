{
 "cells": [
  {
   "cell_type": "code",
   "execution_count": 20,
   "metadata": {},
   "outputs": [],
   "source": [
    "# Import packages\n",
    "from pybaseball import statcast\n",
    "import numpy as np\n",
    "import movement\n",
    "import numpy as np\n",
    "import matplotlib.pyplot as plt\n",
    "import pandas as pd\n",
    "import itertools\n",
    "\n",
    "from sklearn.model_selection import train_test_split\n",
    "from sklearn.linear_model import LogisticRegression\n",
    "from sklearn import preprocessing\n",
    "from sklearn.ensemble import RandomForestClassifier\n",
    "from sklearn.metrics import accuracy_score, confusion_matrix\n",
    "\n",
    "from imblearn.under_sampling import ClusterCentroids\n",
    "from imblearn.over_sampling import RandomOverSampler, SMOTE, ADASYN"
   ]
  },
  {
   "cell_type": "code",
   "execution_count": 10,
   "metadata": {},
   "outputs": [
    {
     "name": "stdout",
     "output_type": "stream",
     "text": [
      "This is a large query, it may take a moment to complete\n",
      "Completed sub-query from 2019-09-20 to 2019-09-25\n",
      "Completed sub-query from 2019-09-26 to 2019-10-01\n",
      "Completed sub-query from 2019-10-02 to 2019-10-06\n"
     ]
    }
   ],
   "source": [
    "#start = '2017-05-01'\n",
    "# Use shorter time period so I can load this into memory\n",
    "start = '2019-09-20'\n",
    "end = '2019-10-06'\n",
    "data = statcast(start, end)"
   ]
  },
  {
   "cell_type": "code",
   "execution_count": 3,
   "metadata": {},
   "outputs": [],
   "source": [
    "# Iterate through columns_keep and use pop() to remove the columns from `column`\n",
    "# We will the use data.drop([columns]) to remove the remaining columns from the data frame\n",
    "def remove_columns(all_columns, remove):\n",
    "    \"\"\"\n",
    "    Parameters\n",
    "    ----------\n",
    "    all_columns: list\n",
    "        all columns in a Pandas dataframe\n",
    "    remove: list\n",
    "        columns to remove from 'all_columns'\n",
    "    Returns\n",
    "    -------\n",
    "    all_columns: list\n",
    "        Updated columns after removal\n",
    "    \"\"\"\n",
    "    for col in remove:\n",
    "        all_columns.remove(col)\n",
    "    \n",
    "    return all_columns\n",
    "\n",
    "\n",
    "def plot_confusion_matrix(cm, classes,\n",
    "                          normalize=False,\n",
    "                          title='Confusion matrix',\n",
    "                          cmap=plt.cm.Blues):\n",
    "    \"\"\"\n",
    "    This function prints and plots the confusion matrix.\n",
    "    Normalization can be applied by setting `normalize=True`.\n",
    "    \"\"\"\n",
    "    if normalize:\n",
    "        cm = cm.astype('float') / cm.sum(axis=1)[:, np.newaxis]\n",
    "        print(\"Normalized confusion matrix\")\n",
    "    else:\n",
    "        print('Confusion matrix, without normalization')\n",
    "\n",
    "    # print(cm)\n",
    "\n",
    "    plt.imshow(cm, interpolation='nearest', cmap=cmap)\n",
    "    plt.title(title)\n",
    "    plt.colorbar()\n",
    "    tick_marks = np.arange(len(classes))\n",
    "    plt.xticks(tick_marks, classes, rotation=90)\n",
    "    plt.yticks(tick_marks, classes)\n",
    "\n",
    "    fmt = '.2f' if normalize else 'd'\n",
    "    thresh = cm.max() / 2.\n",
    "    for i, j in itertools.product(range(cm.shape[0]), range(cm.shape[1])):\n",
    "        plt.text(j, i, format(cm[i, j], fmt),\n",
    "                 horizontalalignment=\"center\",\n",
    "                 color=\"white\" if cm[i, j] > thresh else \"black\")\n",
    "\n",
    "    plt.tight_layout()\n",
    "    plt.ylabel('True label')\n",
    "    plt.xlabel('Predicted label')"
   ]
  },
  {
   "cell_type": "code",
   "execution_count": 11,
   "metadata": {},
   "outputs": [],
   "source": [
    "columns = list(data.columns)\n",
    "columns_keep = ['pitch_type', \n",
    "                'release_speed',\n",
    "                'release_pos_x',\n",
    "                'release_pos_z',\n",
    "                'pfx_x',\n",
    "                'pfx_z',\n",
    "                'plate_x',\n",
    "                'plate_z',\n",
    "                'zone',\n",
    "                'vx0',\n",
    "                'vy0',\n",
    "                'vz0',\n",
    "                'ax',\n",
    "                'ay',\n",
    "                'az',\n",
    "                'release_spin_rate',\n",
    "                'release_extension',\n",
    "                'release_pos_y'\n",
    "               ]\n",
    "\n",
    "# Drop dolumns not in `columns_keep`\n",
    "col_to_drop = remove_columns(columns, columns_keep)\n",
    "data = data.drop(col_to_drop, axis=1)"
   ]
  },
  {
   "cell_type": "code",
   "execution_count": 12,
   "metadata": {},
   "outputs": [],
   "source": [
    "# Add movement in x and z directions\n",
    "v_o = [data.vx0, data.vy0, data.vz0]\n",
    "p_o = [data.release_pos_x, data.release_pos_y, data.release_pos_z]\n",
    "a = [data.ax, data.ay, data.az]\n",
    "dx, dz, dzg = movement.calc_movement(p_o, v_o, a)\n",
    "data['movement_x'] = dx\n",
    "data['movement_z'] = dz"
   ]
  },
  {
   "cell_type": "code",
   "execution_count": 13,
   "metadata": {},
   "outputs": [
    {
     "name": "stdout",
     "output_type": "stream",
     "text": [
      "{0, 1, 2, 3, 4, 5, 6, 7, 8, 9}\n",
      "Index(['FC', 'KC', 'SL', 'CH', 'FF', 'FT', 'CU', 'SI', 'FS', 'EP'], dtype='object')\n"
     ]
    }
   ],
   "source": [
    "# Remove data points that have no pitch_type\n",
    "#data = data.dropna(subset=['pitch_type'])\n",
    "data = data.dropna()\n",
    "pitch_types = list(data.pitch_type.values)\n",
    "\n",
    "#Creating the dependent variable class\n",
    "import pandas as pd\n",
    "factor = pd.factorize(data['pitch_type'])\n",
    "data['pitch_type'] = factor[0]\n",
    "definitions = factor[1]\n",
    "print(set(data.pitch_type))\n",
    "print(definitions)"
   ]
  },
  {
   "cell_type": "code",
   "execution_count": 16,
   "metadata": {},
   "outputs": [],
   "source": [
    "# Split the data into the features (X) and the label to predict (y)\n",
    "y = data['pitch_type']\n",
    "X = data.loc[:, data.columns != 'pitch_type']\n",
    "\n",
    "#scaler = preprocessing.MinMaxScaler()\n",
    "scaler = preprocessing.StandardScaler()\n",
    "X_scaled = scaler.fit_transform(X)\n",
    "\n",
    "# Now use `train_test_split` in scikit-learn to split the data into training and testing data\n",
    "X_train, X_test, y_train, y_test = train_test_split(X_scaled, y, test_size=0.35, random_state=0)\n",
    "\n",
    "# Balance the data using imblearn\n",
    "X_resampled, y_resampled = RandomOverSampler(sampling_strategy='not majority', random_state=69).fit_resample(X_train,y_train)"
   ]
  },
  {
   "cell_type": "code",
   "execution_count": 18,
   "metadata": {},
   "outputs": [
    {
     "name": "stdout",
     "output_type": "stream",
     "text": [
      "Predicted Pitches    CH    CU   FC    FF   FS    FT   KC   SI    SL\n",
      "Actual Pitches                                                     \n",
      "CH                 1629     5    6    10   13    44    0   14    11\n",
      "CU                    2  1388    0     0    0     0   11    0   176\n",
      "EP                    0     1    0     0    0     0    0    0     0\n",
      "FC                    4     4  650    64    0     1    0    0   218\n",
      "FF                   16     0   27  5402    0   139    0   50     6\n",
      "FS                   70     0    0     0  131     0    0    4     7\n",
      "FT                   30     0    0   139    0  1005    0  104     0\n",
      "KC                    0   120    0     0    0     0  161    0    13\n",
      "SI                   31     0    1    97    0   171    0  760     0\n",
      "SL                   11   120   83     5    6     0    9    1  2467\n"
     ]
    }
   ],
   "source": [
    "# Run Random Forest Model\n",
    "rf = RandomForestClassifier(n_estimators=100,\n",
    "                           oob_score=True,\n",
    "                           random_state=0)\n",
    "\n",
    "rf.fit(X_resampled, y_resampled)\n",
    "\n",
    "rf_predictions = rf.predict(X_test)\n",
    "\n",
    "#Reverse factorize (converting y_pred from 0s,1s and 2s\n",
    "reversefactor = dict(zip(range(len(definitions)),definitions))\n",
    "y_update = np.vectorize(reversefactor.get)(y_test)\n",
    "rf_update = np.vectorize(reversefactor.get)(rf_predictions)\n",
    "# Making the Confusion Matrix\n",
    "print(pd.crosstab(y_update, rf_update, rownames=['Actual Pitches'], colnames=['Predicted Pitches']))"
   ]
  },
  {
   "cell_type": "code",
   "execution_count": 21,
   "metadata": {},
   "outputs": [
    {
     "name": "stdout",
     "output_type": "stream",
     "text": [
      "Normalized confusion matrix\n"
     ]
    },
    {
     "data": {
      "image/png": "[encoded data removed]",
      "text/plain": [
       "<Figure size 1008x864 with 2 Axes>"
      ]
     },
     "metadata": {
      "needs_background": "light"
     },
     "output_type": "display_data"
    }
   ],
   "source": [
    "# Plot confusion matrix\n",
    "cnf_matrix = confusion_matrix(y_update, rf_update)\n",
    "\n",
    "# Plot normalized confusion matrix\n",
    "fig = plt.figure()\n",
    "fig.set_size_inches(14, 12, forward=True)\n",
    "#fig.align_labels()\n",
    "\n",
    "# fig.subplots_adjust(left=0.0, right=1.0, bottom=0.0, top=1.0)\n",
    "plot_confusion_matrix(cnf_matrix, classes=list(set(data.pitch_type)), normalize=True,\n",
    "                      title='Normalized confusion matrix')"
   ]
  },
  {
   "cell_type": "code",
   "execution_count": null,
   "metadata": {},
   "outputs": [],
   "source": [
    "#TODO: ROC curve\n",
    "https://github.com/javaidnabi31/Multi-class-with-imbalanced-dataset-classification/blob/master/20-news-group-classification.ipynb"
   ]
  }
 ],
 "metadata": {
  "kernelspec": {
   "display_name": "Python 3",
   "language": "python",
   "name": "python3"
  },
  "language_info": {
   "codemirror_mode": {
    "name": "ipython",
    "version": 3
   },
   "file_extension": ".py",
   "mimetype": "text/x-python",
   "name": "python",
   "nbconvert_exporter": "python",
   "pygments_lexer": "ipython3",
   "version": "3.6.8"
  }
 },
 "nbformat": 4,
 "nbformat_minor": 2
}

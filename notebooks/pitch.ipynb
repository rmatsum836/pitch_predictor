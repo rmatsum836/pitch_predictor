{
 "cells": [
  {
   "cell_type": "code",
   "execution_count": 1,
   "metadata": {},
   "outputs": [],
   "source": [
    "from pybaseball import statcast\n",
    "import numpy as np"
   ]
  },
  {
   "cell_type": "markdown",
   "metadata": {},
   "source": [
    "Get data from statcast using pybaseball"
   ]
  },
  {
   "cell_type": "code",
   "execution_count": 2,
   "metadata": {},
   "outputs": [
    {
     "name": "stdout",
     "output_type": "stream",
     "text": [
      "This is a large query, it may take a moment to complete\n",
      "Completed sub-query from 2019-09-20 to 2019-09-25\n",
      "Completed sub-query from 2019-09-26 to 2019-10-01\n",
      "Completed sub-query from 2019-10-02 to 2019-10-06\n"
     ]
    }
   ],
   "source": [
    "#start = '2017-05-01'\n",
    "# Use shorter time period so I can load this into memory\n",
    "start = '2019-09-20'\n",
    "end = '2019-10-06'\n",
    "data = statcast(start, end)"
   ]
  },
  {
   "cell_type": "code",
   "execution_count": 3,
   "metadata": {},
   "outputs": [
    {
     "data": {
      "text/plain": [
       "(45643, 90)"
      ]
     },
     "execution_count": 3,
     "metadata": {},
     "output_type": "execute_result"
    }
   ],
   "source": [
    "np.shape(data)"
   ]
  },
  {
   "cell_type": "code",
   "execution_count": 8,
   "metadata": {},
   "outputs": [
    {
     "data": {
      "text/plain": [
       "pitch_type\n",
       "CH     5085\n",
       "CU     4790\n",
       "EP        3\n",
       "FC     2641\n",
       "FF    16055\n",
       "FS      656\n",
       "FT     3760\n",
       "KC      800\n",
       "SI     3148\n",
       "SL     8696\n",
       "Name: index, dtype: int64"
      ]
     },
     "execution_count": 8,
     "metadata": {},
     "output_type": "execute_result"
    }
   ],
   "source": [
    "data.groupby('pitch_type').count()['index']"
   ]
  },
  {
   "cell_type": "code",
   "execution_count": 7,
   "metadata": {},
   "outputs": [
    {
     "data": {
      "text/plain": [
       "Index(['index', 'pitch_type', 'game_date', 'release_speed', 'release_pos_x',\n",
       "       'release_pos_z', 'player_name', 'batter', 'pitcher', 'events',\n",
       "       'description', 'spin_dir', 'spin_rate_deprecated',\n",
       "       'break_angle_deprecated', 'break_length_deprecated', 'zone', 'des',\n",
       "       'game_type', 'stand', 'p_throws', 'home_team', 'away_team', 'type',\n",
       "       'hit_location', 'bb_type', 'balls', 'strikes', 'game_year', 'pfx_x',\n",
       "       'pfx_z', 'plate_x', 'plate_z', 'on_3b', 'on_2b', 'on_1b',\n",
       "       'outs_when_up', 'inning', 'inning_topbot', 'hc_x', 'hc_y',\n",
       "       'tfs_deprecated', 'tfs_zulu_deprecated', 'fielder_2', 'umpire', 'sv_id',\n",
       "       'vx0', 'vy0', 'vz0', 'ax', 'ay', 'az', 'sz_top', 'sz_bot',\n",
       "       'hit_distance_sc', 'launch_speed', 'launch_angle', 'effective_speed',\n",
       "       'release_spin_rate', 'release_extension', 'game_pk', 'pitcher.1',\n",
       "       'fielder_2.1', 'fielder_3', 'fielder_4', 'fielder_5', 'fielder_6',\n",
       "       'fielder_7', 'fielder_8', 'fielder_9', 'release_pos_y',\n",
       "       'estimated_ba_using_speedangle', 'estimated_woba_using_speedangle',\n",
       "       'woba_value', 'woba_denom', 'babip_value', 'iso_value',\n",
       "       'launch_speed_angle', 'at_bat_number', 'pitch_number', 'pitch_name',\n",
       "       'home_score', 'away_score', 'bat_score', 'fld_score', 'post_away_score',\n",
       "       'post_home_score', 'post_bat_score', 'post_fld_score',\n",
       "       'if_fielding_alignment', 'of_fielding_alignment'],\n",
       "      dtype='object')"
      ]
     },
     "execution_count": 7,
     "metadata": {},
     "output_type": "execute_result"
    }
   ],
   "source": [
    "data.columns"
   ]
  },
  {
   "cell_type": "markdown",
   "metadata": {},
   "source": [
    "Since we're trying to predict pitches, we need to get rid of many of these columns"
   ]
  },
  {
   "cell_type": "code",
   "execution_count": 8,
   "metadata": {},
   "outputs": [],
   "source": [
    "columns = list(data.columns)\n",
    "columns_keep = ['pitch_type', 'release_speed', 'release_pos_x', 'release_pos_z',\n",
    "                'p_throws', 'pfx_x', 'pfx_z', 'plate_x', 'plate_z',\n",
    "               'zone', 'vx0', 'vy0', 'vz0', 'ax', 'ay', 'az', 'release_spin_rate', 'release_extension',\n",
    "                'release_pos_y'\n",
    "               ]"
   ]
  },
  {
   "cell_type": "code",
   "execution_count": 9,
   "metadata": {},
   "outputs": [],
   "source": [
    "# Iterate through columns_keep and use pop() to remove the columns from `column`\n",
    "# We will the use data.drop([columns]) to remove the remaining columns from the data frame\n",
    "def remove_columns(all_columns, remove):\n",
    "    \"\"\"\n",
    "    Parameters\n",
    "    ----------\n",
    "    all_columns: list\n",
    "        all columns in a Pandas dataframe\n",
    "    remove: list\n",
    "        columns to remove from 'all_columns'\n",
    "    Returns\n",
    "    -------\n",
    "    all_columns: list\n",
    "        Updated columns after removal\n",
    "    \"\"\"\n",
    "    for col in remove:\n",
    "        all_columns.remove(col)\n",
    "    \n",
    "    return all_columns"
   ]
  },
  {
   "cell_type": "code",
   "execution_count": 10,
   "metadata": {},
   "outputs": [],
   "source": [
    "col_to_drop = remove_columns(columns, columns_keep)"
   ]
  },
  {
   "cell_type": "code",
   "execution_count": 11,
   "metadata": {},
   "outputs": [],
   "source": [
    "data = data.drop(col_to_drop, axis=1)"
   ]
  },
  {
   "cell_type": "code",
   "execution_count": 12,
   "metadata": {},
   "outputs": [
    {
     "data": {
      "text/html": [
       "<div>\n",
       "<style scoped>\n",
       "    .dataframe tbody tr th:only-of-type {\n",
       "        vertical-align: middle;\n",
       "    }\n",
       "\n",
       "    .dataframe tbody tr th {\n",
       "        vertical-align: top;\n",
       "    }\n",
       "\n",
       "    .dataframe thead th {\n",
       "        text-align: right;\n",
       "    }\n",
       "</style>\n",
       "<table border=\"1\" class=\"dataframe\">\n",
       "  <thead>\n",
       "    <tr style=\"text-align: right;\">\n",
       "      <th></th>\n",
       "      <th>pitch_type</th>\n",
       "      <th>release_speed</th>\n",
       "      <th>release_pos_x</th>\n",
       "      <th>release_pos_z</th>\n",
       "      <th>zone</th>\n",
       "      <th>p_throws</th>\n",
       "      <th>pfx_x</th>\n",
       "      <th>pfx_z</th>\n",
       "      <th>plate_x</th>\n",
       "      <th>plate_z</th>\n",
       "      <th>vx0</th>\n",
       "      <th>vy0</th>\n",
       "      <th>vz0</th>\n",
       "      <th>ax</th>\n",
       "      <th>ay</th>\n",
       "      <th>az</th>\n",
       "      <th>release_spin_rate</th>\n",
       "      <th>release_extension</th>\n",
       "      <th>release_pos_y</th>\n",
       "    </tr>\n",
       "  </thead>\n",
       "  <tbody>\n",
       "    <tr>\n",
       "      <th>0</th>\n",
       "      <td>FC</td>\n",
       "      <td>92.2</td>\n",
       "      <td>-2.7341</td>\n",
       "      <td>6.2773</td>\n",
       "      <td>7.0</td>\n",
       "      <td>R</td>\n",
       "      <td>-0.2042</td>\n",
       "      <td>0.8955</td>\n",
       "      <td>-0.6209</td>\n",
       "      <td>1.9239</td>\n",
       "      <td>5.8618</td>\n",
       "      <td>-134.2079</td>\n",
       "      <td>-7.2855</td>\n",
       "      <td>-3.7087</td>\n",
       "      <td>27.6047</td>\n",
       "      <td>-19.8867</td>\n",
       "      <td>2347.0</td>\n",
       "      <td>6.661</td>\n",
       "      <td>53.8385</td>\n",
       "    </tr>\n",
       "    <tr>\n",
       "      <th>1</th>\n",
       "      <td>FC</td>\n",
       "      <td>92.4</td>\n",
       "      <td>-2.8654</td>\n",
       "      <td>6.2946</td>\n",
       "      <td>14.0</td>\n",
       "      <td>R</td>\n",
       "      <td>0.1079</td>\n",
       "      <td>0.7773</td>\n",
       "      <td>1.0586</td>\n",
       "      <td>1.9971</td>\n",
       "      <td>9.7988</td>\n",
       "      <td>-134.3433</td>\n",
       "      <td>-6.9264</td>\n",
       "      <td>-0.4991</td>\n",
       "      <td>25.0737</td>\n",
       "      <td>-21.4812</td>\n",
       "      <td>2371.0</td>\n",
       "      <td>6.556</td>\n",
       "      <td>53.9433</td>\n",
       "    </tr>\n",
       "    <tr>\n",
       "      <th>2</th>\n",
       "      <td>FC</td>\n",
       "      <td>92.4</td>\n",
       "      <td>-2.8643</td>\n",
       "      <td>6.3399</td>\n",
       "      <td>8.0</td>\n",
       "      <td>R</td>\n",
       "      <td>0.2493</td>\n",
       "      <td>0.6392</td>\n",
       "      <td>0.2517</td>\n",
       "      <td>1.6561</td>\n",
       "      <td>7.3879</td>\n",
       "      <td>-134.3168</td>\n",
       "      <td>-7.5311</td>\n",
       "      <td>1.5693</td>\n",
       "      <td>26.5736</td>\n",
       "      <td>-23.1126</td>\n",
       "      <td>2283.0</td>\n",
       "      <td>6.295</td>\n",
       "      <td>54.2046</td>\n",
       "    </tr>\n",
       "    <tr>\n",
       "      <th>3</th>\n",
       "      <td>FC</td>\n",
       "      <td>91.6</td>\n",
       "      <td>-2.7244</td>\n",
       "      <td>6.3346</td>\n",
       "      <td>11.0</td>\n",
       "      <td>R</td>\n",
       "      <td>-0.0262</td>\n",
       "      <td>0.7692</td>\n",
       "      <td>-0.9579</td>\n",
       "      <td>2.7154</td>\n",
       "      <td>4.5645</td>\n",
       "      <td>-133.4290</td>\n",
       "      <td>-5.0621</td>\n",
       "      <td>-1.2245</td>\n",
       "      <td>26.4589</td>\n",
       "      <td>-21.9677</td>\n",
       "      <td>2128.0</td>\n",
       "      <td>6.780</td>\n",
       "      <td>53.7196</td>\n",
       "    </tr>\n",
       "    <tr>\n",
       "      <th>4</th>\n",
       "      <td>KC</td>\n",
       "      <td>82.5</td>\n",
       "      <td>-2.7911</td>\n",
       "      <td>6.2925</td>\n",
       "      <td>13.0</td>\n",
       "      <td>R</td>\n",
       "      <td>0.2459</td>\n",
       "      <td>-1.3550</td>\n",
       "      <td>-0.1291</td>\n",
       "      <td>0.8982</td>\n",
       "      <td>5.5346</td>\n",
       "      <td>-119.8091</td>\n",
       "      <td>-3.0072</td>\n",
       "      <td>1.0726</td>\n",
       "      <td>26.7417</td>\n",
       "      <td>-44.4923</td>\n",
       "      <td>2812.0</td>\n",
       "      <td>5.950</td>\n",
       "      <td>54.5495</td>\n",
       "    </tr>\n",
       "  </tbody>\n",
       "</table>\n",
       "</div>"
      ],
      "text/plain": [
       "  pitch_type  release_speed  release_pos_x  release_pos_z  zone p_throws  \\\n",
       "0         FC           92.2        -2.7341         6.2773   7.0        R   \n",
       "1         FC           92.4        -2.8654         6.2946  14.0        R   \n",
       "2         FC           92.4        -2.8643         6.3399   8.0        R   \n",
       "3         FC           91.6        -2.7244         6.3346  11.0        R   \n",
       "4         KC           82.5        -2.7911         6.2925  13.0        R   \n",
       "\n",
       "    pfx_x   pfx_z  plate_x  plate_z     vx0       vy0     vz0      ax  \\\n",
       "0 -0.2042  0.8955  -0.6209   1.9239  5.8618 -134.2079 -7.2855 -3.7087   \n",
       "1  0.1079  0.7773   1.0586   1.9971  9.7988 -134.3433 -6.9264 -0.4991   \n",
       "2  0.2493  0.6392   0.2517   1.6561  7.3879 -134.3168 -7.5311  1.5693   \n",
       "3 -0.0262  0.7692  -0.9579   2.7154  4.5645 -133.4290 -5.0621 -1.2245   \n",
       "4  0.2459 -1.3550  -0.1291   0.8982  5.5346 -119.8091 -3.0072  1.0726   \n",
       "\n",
       "        ay       az  release_spin_rate  release_extension  release_pos_y  \n",
       "0  27.6047 -19.8867             2347.0              6.661        53.8385  \n",
       "1  25.0737 -21.4812             2371.0              6.556        53.9433  \n",
       "2  26.5736 -23.1126             2283.0              6.295        54.2046  \n",
       "3  26.4589 -21.9677             2128.0              6.780        53.7196  \n",
       "4  26.7417 -44.4923             2812.0              5.950        54.5495  "
      ]
     },
     "execution_count": 12,
     "metadata": {},
     "output_type": "execute_result"
    }
   ],
   "source": [
    "data.head()"
   ]
  },
  {
   "cell_type": "markdown",
   "metadata": {},
   "source": [
    "### Defining the columns:\n",
    "#### `release_speed`: Pitch velocities in mph\n",
    "#### `release_pos_x`: Horizontal release position of pitch from catcher's perspective \n",
    "#### `release_pos_z`: Vertical release position of pitch\n",
    "#### `zone`: Zone location of the ball when it cross the plate from the catcher's perspective\n",
    "#### `p_throws`: Handedness of pitcher\\n\n",
    "#### `pfx`: Horizontal (or vertical) movement of pitch in feet\n",
    "#### `plate_`: Position of ball when it reaches plate from catcher's perspective\n",
    "#### `vx,vy,vz`: velocity of pitch in feet per second\n",
    "#### `ax,ay,az`: acceleration of pitch, in feet per second^2\n",
    "#### `release_spin_rate`: Spin rate of pitch\n",
    "#### `release_extension`: Release extension of pitch in feet\n",
    "#### `release_pos_y`: Release position of pitch measured in feet from the catcher's perspective."
   ]
  },
  {
   "cell_type": "markdown",
   "metadata": {},
   "source": [
    "### Potential Features to add:\n",
    "#### movement: DIfference of `release_pos` and `plate_pos`"
   ]
  },
  {
   "cell_type": "code",
   "execution_count": 13,
   "metadata": {},
   "outputs": [],
   "source": [
    "# Add movement\n",
    "import movement"
   ]
  },
  {
   "cell_type": "code",
   "execution_count": 14,
   "metadata": {},
   "outputs": [],
   "source": [
    "v_o = [data.vx0, data.vy0, data.vz0]\n",
    "p_o = [data.release_pos_x, data.release_pos_y, data.release_pos_z]\n",
    "a = [data.ax, data.ay, data.az]"
   ]
  },
  {
   "cell_type": "code",
   "execution_count": 15,
   "metadata": {},
   "outputs": [],
   "source": [
    "dx, dz, dzg = movement.calc_movement(p_o, v_o, a)"
   ]
  },
  {
   "cell_type": "code",
   "execution_count": 16,
   "metadata": {},
   "outputs": [],
   "source": [
    "data['movement_x'] = dx\n",
    "data['movement_z'] = dz"
   ]
  },
  {
   "cell_type": "code",
   "execution_count": 17,
   "metadata": {},
   "outputs": [],
   "source": [
    "# Take absolute value of movements to try and get rid of differences between left and right handed pitches\n",
    "#data['movement_x'] = abs(data['movement_x'])\n",
    "# data['movement_z'] = abs(data['movement_z']) We don't need to take the absolute value in the z-direction"
   ]
  },
  {
   "cell_type": "code",
   "execution_count": 18,
   "metadata": {},
   "outputs": [
    {
     "data": {
      "text/html": [
       "<div>\n",
       "<style scoped>\n",
       "    .dataframe tbody tr th:only-of-type {\n",
       "        vertical-align: middle;\n",
       "    }\n",
       "\n",
       "    .dataframe tbody tr th {\n",
       "        vertical-align: top;\n",
       "    }\n",
       "\n",
       "    .dataframe thead th {\n",
       "        text-align: right;\n",
       "    }\n",
       "</style>\n",
       "<table border=\"1\" class=\"dataframe\">\n",
       "  <thead>\n",
       "    <tr style=\"text-align: right;\">\n",
       "      <th></th>\n",
       "      <th>pitch_type</th>\n",
       "      <th>release_speed</th>\n",
       "      <th>release_pos_x</th>\n",
       "      <th>release_pos_z</th>\n",
       "      <th>zone</th>\n",
       "      <th>p_throws</th>\n",
       "      <th>pfx_x</th>\n",
       "      <th>pfx_z</th>\n",
       "      <th>plate_x</th>\n",
       "      <th>plate_z</th>\n",
       "      <th>...</th>\n",
       "      <th>vy0</th>\n",
       "      <th>vz0</th>\n",
       "      <th>ax</th>\n",
       "      <th>ay</th>\n",
       "      <th>az</th>\n",
       "      <th>release_spin_rate</th>\n",
       "      <th>release_extension</th>\n",
       "      <th>release_pos_y</th>\n",
       "      <th>movement_x</th>\n",
       "      <th>movement_z</th>\n",
       "    </tr>\n",
       "  </thead>\n",
       "  <tbody>\n",
       "    <tr>\n",
       "      <th>0</th>\n",
       "      <td>FC</td>\n",
       "      <td>92.2</td>\n",
       "      <td>-2.7341</td>\n",
       "      <td>6.2773</td>\n",
       "      <td>7.0</td>\n",
       "      <td>R</td>\n",
       "      <td>-0.2042</td>\n",
       "      <td>0.8955</td>\n",
       "      <td>-0.6209</td>\n",
       "      <td>1.9239</td>\n",
       "      <td>...</td>\n",
       "      <td>-134.2079</td>\n",
       "      <td>-7.2855</td>\n",
       "      <td>-3.7087</td>\n",
       "      <td>27.6047</td>\n",
       "      <td>-19.8867</td>\n",
       "      <td>2347.0</td>\n",
       "      <td>6.661</td>\n",
       "      <td>53.8385</td>\n",
       "      <td>-1.437999</td>\n",
       "      <td>5.252248</td>\n",
       "    </tr>\n",
       "    <tr>\n",
       "      <th>1</th>\n",
       "      <td>FC</td>\n",
       "      <td>92.4</td>\n",
       "      <td>-2.8654</td>\n",
       "      <td>6.2946</td>\n",
       "      <td>14.0</td>\n",
       "      <td>R</td>\n",
       "      <td>0.1079</td>\n",
       "      <td>0.7773</td>\n",
       "      <td>1.0586</td>\n",
       "      <td>1.9971</td>\n",
       "      <td>...</td>\n",
       "      <td>-134.3433</td>\n",
       "      <td>-6.9264</td>\n",
       "      <td>-0.4991</td>\n",
       "      <td>25.0737</td>\n",
       "      <td>-21.4812</td>\n",
       "      <td>2371.0</td>\n",
       "      <td>6.556</td>\n",
       "      <td>53.9433</td>\n",
       "      <td>0.790338</td>\n",
       "      <td>4.473654</td>\n",
       "    </tr>\n",
       "    <tr>\n",
       "      <th>2</th>\n",
       "      <td>FC</td>\n",
       "      <td>92.4</td>\n",
       "      <td>-2.8643</td>\n",
       "      <td>6.3399</td>\n",
       "      <td>8.0</td>\n",
       "      <td>R</td>\n",
       "      <td>0.2493</td>\n",
       "      <td>0.6392</td>\n",
       "      <td>0.2517</td>\n",
       "      <td>1.6561</td>\n",
       "      <td>...</td>\n",
       "      <td>-134.3168</td>\n",
       "      <td>-7.5311</td>\n",
       "      <td>1.5693</td>\n",
       "      <td>26.5736</td>\n",
       "      <td>-23.1126</td>\n",
       "      <td>2283.0</td>\n",
       "      <td>6.295</td>\n",
       "      <td>54.2046</td>\n",
       "      <td>1.771752</td>\n",
       "      <td>3.410716</td>\n",
       "    </tr>\n",
       "    <tr>\n",
       "      <th>3</th>\n",
       "      <td>FC</td>\n",
       "      <td>91.6</td>\n",
       "      <td>-2.7244</td>\n",
       "      <td>6.3346</td>\n",
       "      <td>11.0</td>\n",
       "      <td>R</td>\n",
       "      <td>-0.0262</td>\n",
       "      <td>0.7692</td>\n",
       "      <td>-0.9579</td>\n",
       "      <td>2.7154</td>\n",
       "      <td>...</td>\n",
       "      <td>-133.4290</td>\n",
       "      <td>-5.0621</td>\n",
       "      <td>-1.2245</td>\n",
       "      <td>26.4589</td>\n",
       "      <td>-21.9677</td>\n",
       "      <td>2128.0</td>\n",
       "      <td>6.780</td>\n",
       "      <td>53.7196</td>\n",
       "      <td>-0.174665</td>\n",
       "      <td>4.410602</td>\n",
       "    </tr>\n",
       "    <tr>\n",
       "      <th>4</th>\n",
       "      <td>KC</td>\n",
       "      <td>82.5</td>\n",
       "      <td>-2.7911</td>\n",
       "      <td>6.2925</td>\n",
       "      <td>13.0</td>\n",
       "      <td>R</td>\n",
       "      <td>0.2459</td>\n",
       "      <td>-1.3550</td>\n",
       "      <td>-0.1291</td>\n",
       "      <td>0.8982</td>\n",
       "      <td>...</td>\n",
       "      <td>-119.8091</td>\n",
       "      <td>-3.0072</td>\n",
       "      <td>1.0726</td>\n",
       "      <td>26.7417</td>\n",
       "      <td>-44.4923</td>\n",
       "      <td>2812.0</td>\n",
       "      <td>5.950</td>\n",
       "      <td>54.5495</td>\n",
       "      <td>1.672596</td>\n",
       "      <td>-11.288157</td>\n",
       "    </tr>\n",
       "  </tbody>\n",
       "</table>\n",
       "<p>5 rows × 21 columns</p>\n",
       "</div>"
      ],
      "text/plain": [
       "  pitch_type  release_speed  release_pos_x  release_pos_z  zone p_throws  \\\n",
       "0         FC           92.2        -2.7341         6.2773   7.0        R   \n",
       "1         FC           92.4        -2.8654         6.2946  14.0        R   \n",
       "2         FC           92.4        -2.8643         6.3399   8.0        R   \n",
       "3         FC           91.6        -2.7244         6.3346  11.0        R   \n",
       "4         KC           82.5        -2.7911         6.2925  13.0        R   \n",
       "\n",
       "    pfx_x   pfx_z  plate_x  plate_z  ...       vy0     vz0      ax       ay  \\\n",
       "0 -0.2042  0.8955  -0.6209   1.9239  ... -134.2079 -7.2855 -3.7087  27.6047   \n",
       "1  0.1079  0.7773   1.0586   1.9971  ... -134.3433 -6.9264 -0.4991  25.0737   \n",
       "2  0.2493  0.6392   0.2517   1.6561  ... -134.3168 -7.5311  1.5693  26.5736   \n",
       "3 -0.0262  0.7692  -0.9579   2.7154  ... -133.4290 -5.0621 -1.2245  26.4589   \n",
       "4  0.2459 -1.3550  -0.1291   0.8982  ... -119.8091 -3.0072  1.0726  26.7417   \n",
       "\n",
       "        az  release_spin_rate  release_extension  release_pos_y  movement_x  \\\n",
       "0 -19.8867             2347.0              6.661        53.8385   -1.437999   \n",
       "1 -21.4812             2371.0              6.556        53.9433    0.790338   \n",
       "2 -23.1126             2283.0              6.295        54.2046    1.771752   \n",
       "3 -21.9677             2128.0              6.780        53.7196   -0.174665   \n",
       "4 -44.4923             2812.0              5.950        54.5495    1.672596   \n",
       "\n",
       "   movement_z  \n",
       "0    5.252248  \n",
       "1    4.473654  \n",
       "2    3.410716  \n",
       "3    4.410602  \n",
       "4  -11.288157  \n",
       "\n",
       "[5 rows x 21 columns]"
      ]
     },
     "execution_count": 18,
     "metadata": {},
     "output_type": "execute_result"
    }
   ],
   "source": [
    "data.head()"
   ]
  },
  {
   "cell_type": "code",
   "execution_count": 19,
   "metadata": {},
   "outputs": [],
   "source": [
    "data = data.dropna(subset=['pitch_type'])"
   ]
  },
  {
   "cell_type": "code",
   "execution_count": 20,
   "metadata": {},
   "outputs": [],
   "source": [
    "pitch_types = list(data.pitch_type.values)"
   ]
  },
  {
   "cell_type": "code",
   "execution_count": 21,
   "metadata": {},
   "outputs": [
    {
     "data": {
      "text/plain": [
       "{'CH', 'CU', 'EP', 'FC', 'FF', 'FS', 'FT', 'KC', 'SI', 'SL'}"
      ]
     },
     "execution_count": 21,
     "metadata": {},
     "output_type": "execute_result"
    }
   ],
   "source": [
    "set(pitch_types)"
   ]
  },
  {
   "cell_type": "markdown",
   "metadata": {},
   "source": [
    "### Pitch Types\n",
    "#### `CH`: changeup\n",
    "#### `CU`:  curveball\n",
    "#### `EP`: ephus\n",
    "#### `FC`: cutter\n",
    "#### `FF`: four-seam\n",
    "#### `FS`: splitter\n",
    "#### `FT`: two-seam \n",
    "#### `KC`: knuckle-curve\n",
    "#### `SI`: sinker\n",
    "#### `SL`: slider"
   ]
  },
  {
   "cell_type": "markdown",
   "metadata": {},
   "source": [
    "Let's take a look at some distributions of several of these features"
   ]
  },
  {
   "cell_type": "code",
   "execution_count": 22,
   "metadata": {},
   "outputs": [],
   "source": [
    "import numpy as np\n",
    "import matplotlib.pyplot as plt"
   ]
  },
  {
   "cell_type": "code",
   "execution_count": 23,
   "metadata": {},
   "outputs": [
    {
     "name": "stderr",
     "output_type": "stream",
     "text": [
      "/Users/raymatsumoto/anaconda3/envs/mosdef36/lib/python3.6/site-packages/numpy/lib/histograms.py:829: RuntimeWarning: invalid value encountered in greater_equal\n",
      "  keep = (tmp_a >= first_edge)\n",
      "/Users/raymatsumoto/anaconda3/envs/mosdef36/lib/python3.6/site-packages/numpy/lib/histograms.py:830: RuntimeWarning: invalid value encountered in less_equal\n",
      "  keep &= (tmp_a <= last_edge)\n"
     ]
    },
    {
     "data": {
      "image/png": "[encoded data removed]",
      "text/plain": [
       "<Figure size 432x288 with 1 Axes>"
      ]
     },
     "metadata": {
      "needs_background": "light"
     },
     "output_type": "display_data"
    }
   ],
   "source": [
    "speed_histo = plt.hist(data.release_speed, bins=100)"
   ]
  },
  {
   "cell_type": "markdown",
   "metadata": {},
   "source": [
    "There appears to be a distribution of pitches around 85 mph(off-speed) and a distribution around 93-4 mph (fastball)"
   ]
  },
  {
   "cell_type": "code",
   "execution_count": 24,
   "metadata": {},
   "outputs": [
    {
     "data": {
      "image/png": "[encoded data removed]",
      "text/plain": [
       "<Figure size 1440x432 with 10 Axes>"
      ]
     },
     "metadata": {
      "needs_background": "light"
     },
     "output_type": "display_data"
    }
   ],
   "source": [
    "num_pitches = len(set(pitch_types))\n",
    "pitches = list(set(pitch_types))\n",
    "fig, axes = plt.subplots(nrows=2, ncols=round(num_pitches/2), figsize=(20,6))\n",
    "k = 0\n",
    "for i in [0,1]:\n",
    "    for j in range(round(num_pitches/2)):\n",
    "        histo = axes[i,j].hist(data.release_speed[data.pitch_type == pitches[k]], label=pitches[k])\n",
    "        axes[i,j].legend()\n",
    "        k += 1"
   ]
  },
  {
   "cell_type": "markdown",
   "metadata": {},
   "source": [
    "### A Few notes on pitch types versus velocity:\n",
    "#### - Sinker, Four-seam, two-seam, and cutter have similar velocity distributions\n",
    "#### - curve, knuckle-curve, and changeup have similar velocity distributions\n",
    "#### - ephus pitches are hardely thrown, and when they are, their velocities are much lower than the other pitches"
   ]
  },
  {
   "cell_type": "markdown",
   "metadata": {},
   "source": [
    "Pitch movement: http://baseball.physics.illinois.edu/Movement.pdf"
   ]
  },
  {
   "cell_type": "code",
   "execution_count": 25,
   "metadata": {},
   "outputs": [
    {
     "data": {
      "text/plain": [
       "Index(['pitch_type', 'release_speed', 'release_pos_x', 'release_pos_z', 'zone',\n",
       "       'p_throws', 'pfx_x', 'pfx_z', 'plate_x', 'plate_z', 'vx0', 'vy0', 'vz0',\n",
       "       'ax', 'ay', 'az', 'release_spin_rate', 'release_extension',\n",
       "       'release_pos_y', 'movement_x', 'movement_z'],\n",
       "      dtype='object')"
      ]
     },
     "execution_count": 25,
     "metadata": {},
     "output_type": "execute_result"
    }
   ],
   "source": [
    "data.columns"
   ]
  },
  {
   "cell_type": "markdown",
   "metadata": {},
   "source": [
    "#### Movement: deviation of trajectory from a straight line without the effect of gravity"
   ]
  },
  {
   "cell_type": "code",
   "execution_count": 26,
   "metadata": {},
   "outputs": [],
   "source": [
    "columns_keep = ['pitch_type', 'release_speed', 'pfx_x', 'pfx_z', 'release_spin_rate',\n",
    "                'movement_x', 'movement_z']\n",
    "columns = list(data.columns)"
   ]
  },
  {
   "cell_type": "code",
   "execution_count": 27,
   "metadata": {},
   "outputs": [],
   "source": [
    "col_to_drop = remove_columns(columns, columns_keep)"
   ]
  },
  {
   "cell_type": "code",
   "execution_count": 28,
   "metadata": {},
   "outputs": [],
   "source": [
    "data = data.drop(col_to_drop, axis=1)"
   ]
  },
  {
   "cell_type": "code",
   "execution_count": 29,
   "metadata": {},
   "outputs": [
    {
     "data": {
      "image/png": "[encoded data removed]",
      "text/plain": [
       "<Figure size 1440x432 with 10 Axes>"
      ]
     },
     "metadata": {
      "needs_background": "light"
     },
     "output_type": "display_data"
    }
   ],
   "source": [
    "fig, axes = plt.subplots(nrows=2, ncols=round(num_pitches/2), figsize=(20,6))\n",
    "k = 0\n",
    "for i in [0,1]:\n",
    "    for j in range(round(num_pitches/2)):\n",
    "        histo = axes[i,j].hist(data.movement_x[data.pitch_type == pitches[k]], label=pitches[k])\n",
    "        axes[i,j].legend()\n",
    "        k += 1"
   ]
  },
  {
   "cell_type": "code",
   "execution_count": 30,
   "metadata": {},
   "outputs": [
    {
     "data": {
      "image/png": "[encoded data removed]",
      "text/plain": [
       "<Figure size 1440x432 with 10 Axes>"
      ]
     },
     "metadata": {
      "needs_background": "light"
     },
     "output_type": "display_data"
    }
   ],
   "source": [
    "fig, axes = plt.subplots(nrows=2, ncols=round(num_pitches/2), figsize=(20,6))\n",
    "k = 0\n",
    "for i in [0,1]:\n",
    "    for j in range(round(num_pitches/2)):\n",
    "        histo = axes[i,j].hist(data.movement_z[data.pitch_type == pitches[k]], label=pitches[k])\n",
    "        axes[i,j].legend()\n",
    "        k += 1"
   ]
  },
  {
   "cell_type": "markdown",
   "metadata": {},
   "source": [
    "### Convert the categorical variables to numerical values "
   ]
  },
  {
   "cell_type": "code",
   "execution_count": 31,
   "metadata": {},
   "outputs": [
    {
     "name": "stdout",
     "output_type": "stream",
     "text": [
      "{0, 1, 2, 3, 4, 5, 6, 7, 8, 9}\n",
      "Index(['FC', 'KC', 'SL', 'CH', 'FF', 'FT', 'CU', 'SI', 'FS', 'EP'], dtype='object')\n"
     ]
    }
   ],
   "source": [
    "#Creating the dependent variable class\n",
    "import pandas as pd\n",
    "factor = pd.factorize(data['pitch_type'])\n",
    "data['pitch_type'] = factor[0]\n",
    "definitions = factor[1]\n",
    "print(set(data.pitch_type))\n",
    "print(definitions)"
   ]
  },
  {
   "cell_type": "markdown",
   "metadata": {},
   "source": [
    "TODO: Look up appropriate models to use"
   ]
  },
  {
   "cell_type": "code",
   "execution_count": 32,
   "metadata": {},
   "outputs": [
    {
     "data": {
      "text/html": [
       "<div>\n",
       "<style scoped>\n",
       "    .dataframe tbody tr th:only-of-type {\n",
       "        vertical-align: middle;\n",
       "    }\n",
       "\n",
       "    .dataframe tbody tr th {\n",
       "        vertical-align: top;\n",
       "    }\n",
       "\n",
       "    .dataframe thead th {\n",
       "        text-align: right;\n",
       "    }\n",
       "</style>\n",
       "<table border=\"1\" class=\"dataframe\">\n",
       "  <thead>\n",
       "    <tr style=\"text-align: right;\">\n",
       "      <th></th>\n",
       "      <th>pitch_type</th>\n",
       "      <th>release_speed</th>\n",
       "      <th>pfx_x</th>\n",
       "      <th>pfx_z</th>\n",
       "      <th>release_spin_rate</th>\n",
       "      <th>movement_x</th>\n",
       "      <th>movement_z</th>\n",
       "    </tr>\n",
       "  </thead>\n",
       "  <tbody>\n",
       "    <tr>\n",
       "      <th>0</th>\n",
       "      <td>0</td>\n",
       "      <td>92.2</td>\n",
       "      <td>-0.2042</td>\n",
       "      <td>0.8955</td>\n",
       "      <td>2347.0</td>\n",
       "      <td>-1.437999</td>\n",
       "      <td>5.252248</td>\n",
       "    </tr>\n",
       "    <tr>\n",
       "      <th>1</th>\n",
       "      <td>0</td>\n",
       "      <td>92.4</td>\n",
       "      <td>0.1079</td>\n",
       "      <td>0.7773</td>\n",
       "      <td>2371.0</td>\n",
       "      <td>0.790338</td>\n",
       "      <td>4.473654</td>\n",
       "    </tr>\n",
       "    <tr>\n",
       "      <th>2</th>\n",
       "      <td>0</td>\n",
       "      <td>92.4</td>\n",
       "      <td>0.2493</td>\n",
       "      <td>0.6392</td>\n",
       "      <td>2283.0</td>\n",
       "      <td>1.771752</td>\n",
       "      <td>3.410716</td>\n",
       "    </tr>\n",
       "    <tr>\n",
       "      <th>3</th>\n",
       "      <td>0</td>\n",
       "      <td>91.6</td>\n",
       "      <td>-0.0262</td>\n",
       "      <td>0.7692</td>\n",
       "      <td>2128.0</td>\n",
       "      <td>-0.174665</td>\n",
       "      <td>4.410602</td>\n",
       "    </tr>\n",
       "    <tr>\n",
       "      <th>4</th>\n",
       "      <td>1</td>\n",
       "      <td>82.5</td>\n",
       "      <td>0.2459</td>\n",
       "      <td>-1.3550</td>\n",
       "      <td>2812.0</td>\n",
       "      <td>1.672596</td>\n",
       "      <td>-11.288157</td>\n",
       "    </tr>\n",
       "  </tbody>\n",
       "</table>\n",
       "</div>"
      ],
      "text/plain": [
       "   pitch_type  release_speed   pfx_x   pfx_z  release_spin_rate  movement_x  \\\n",
       "0           0           92.2 -0.2042  0.8955             2347.0   -1.437999   \n",
       "1           0           92.4  0.1079  0.7773             2371.0    0.790338   \n",
       "2           0           92.4  0.2493  0.6392             2283.0    1.771752   \n",
       "3           0           91.6 -0.0262  0.7692             2128.0   -0.174665   \n",
       "4           1           82.5  0.2459 -1.3550             2812.0    1.672596   \n",
       "\n",
       "   movement_z  \n",
       "0    5.252248  \n",
       "1    4.473654  \n",
       "2    3.410716  \n",
       "3    4.410602  \n",
       "4  -11.288157  "
      ]
     },
     "execution_count": 32,
     "metadata": {},
     "output_type": "execute_result"
    }
   ],
   "source": [
    "data.head()"
   ]
  },
  {
   "cell_type": "markdown",
   "metadata": {},
   "source": [
    "### Understanding the movements\n",
    "- The pitches with positive z-movement are thrown with significant backspin, with forces acting upwards (Magnus Force)\n",
    "- The pitches with downward movement like sliders and curveballs have negative z-movement\n",
    "- Sinkers have positive z-movement although I wouldn't expect this to be the case.  I might have to look at this in greater detail.\n",
    "- "
   ]
  },
  {
   "cell_type": "code",
   "execution_count": 33,
   "metadata": {},
   "outputs": [],
   "source": [
    "# Import Scikit-learn\n",
    "from sklearn.model_selection import train_test_split\n",
    "from sklearn.linear_model import LogisticRegression\n",
    "from sklearn import preprocessing"
   ]
  },
  {
   "cell_type": "code",
   "execution_count": 34,
   "metadata": {},
   "outputs": [],
   "source": [
    "# Remove NaN Values\n",
    "data = data.dropna()"
   ]
  },
  {
   "cell_type": "markdown",
   "metadata": {},
   "source": [
    "### Try random forest model without x and z movements"
   ]
  },
  {
   "cell_type": "code",
   "execution_count": 32,
   "metadata": {},
   "outputs": [],
   "source": [
    "# Split the data into the features (X) and the label to predict (y)\n",
    "base = data.drop(['movement_x', 'movement_z'], axis=1)\n",
    "y = base['pitch_type']\n",
    "X = base.loc[:, base.columns != 'pitch_type']"
   ]
  },
  {
   "cell_type": "code",
   "execution_count": 33,
   "metadata": {},
   "outputs": [],
   "source": [
    "scaler = preprocessing.MinMaxScaler()\n",
    "X_scaled = scaler.fit_transform(X)\n",
    "\n",
    "# Now use `train_test_split` in scikit-learn to split the data into training and testing data\n",
    "X_train, X_test, y_train, y_test = train_test_split(X_scaled, y, test_size=0.35, random_state=0)"
   ]
  },
  {
   "cell_type": "code",
   "execution_count": null,
   "metadata": {},
   "outputs": [],
   "source": [
    "from sklearn.ensemble import RandomForestClassifier\n",
    "\n",
    "rf = RandomForestClassifier(n_estimators=100,\n",
    "                           oob_score=True,\n",
    "                           random_state=0)\n",
    "\n",
    "rf.fit(X_train, y_train)\n",
    "\n",
    "rf_predictions = rf.predict(X_test)"
   ]
  },
  {
   "cell_type": "code",
   "execution_count": null,
   "metadata": {},
   "outputs": [],
   "source": [
    "#Reverse factorize (converting y_pred from 0s,1s and 2s to Iris-setosa, Iris-versicolor and Iris-virginica\n",
    "reversefactor = dict(zip(range(len(definitions)),definitions))\n",
    "y_test = np.vectorize(reversefactor.get)(y_test)\n",
    "rf_predictions = np.vectorize(reversefactor.get)(rf_predictions)\n",
    "# Making the Confusion Matrix\n",
    "print(pd.crosstab(y_test, rf_predictions, rownames=['Actual Pitches'], colnames=['Predicted Pitches']))"
   ]
  },
  {
   "cell_type": "code",
   "execution_count": null,
   "metadata": {},
   "outputs": [],
   "source": [
    "from sklearn.metrics import accuracy_score\n",
    "\n",
    "accuracy_score(y_test, rf_predictions)"
   ]
  },
  {
   "cell_type": "markdown",
   "metadata": {},
   "source": [
    "### Now let's try the model with the x and z movements included as features"
   ]
  },
  {
   "cell_type": "code",
   "execution_count": 37,
   "metadata": {},
   "outputs": [],
   "source": [
    "# Split the data into the features (X) and the label to predict (y)\n",
    "y = data['pitch_type']\n",
    "X = data.loc[:, data.columns != 'pitch_type']"
   ]
  },
  {
   "cell_type": "code",
   "execution_count": 38,
   "metadata": {},
   "outputs": [],
   "source": [
    "#scaler = preprocessing.MinMaxScaler()\n",
    "scaler = preprocessing.StandardScaler()\n",
    "X_scaled = scaler.fit_transform(X)\n",
    "\n",
    "# Now use `train_test_split` in scikit-learn to split the data into training and testing data\n",
    "X_train, X_test, y_train, y_test = train_test_split(X_scaled, y, test_size=0.35, random_state=0)"
   ]
  },
  {
   "cell_type": "code",
   "execution_count": null,
   "metadata": {},
   "outputs": [],
   "source": [
    "from sklearn.ensemble import RandomForestClassifier\n",
    "\n",
    "rf = RandomForestClassifier(n_estimators=100,\n",
    "                           oob_score=True,\n",
    "                           random_state=0)\n",
    "\n",
    "rf.fit(X_train, y_train)\n",
    "\n",
    "rf_predictions = rf.predict(X_test)"
   ]
  },
  {
   "cell_type": "code",
   "execution_count": null,
   "metadata": {},
   "outputs": [],
   "source": [
    "#Reverse factorize (converting y_pred from 0s,1s and 2s\n",
    "reversefactor = dict(zip(range(len(definitions)),definitions))\n",
    "y_test = np.vectorize(reversefactor.get)(y_test)\n",
    "rf_predictions = np.vectorize(reversefactor.get)(rf_predictions)\n",
    "# Making the Confusion Matrix\n",
    "print(pd.crosstab(y_test, rf_predictions, rownames=['Actual Pitches'], colnames=['Predicted Pitches']))"
   ]
  },
  {
   "cell_type": "code",
   "execution_count": null,
   "metadata": {},
   "outputs": [],
   "source": [
    "from sklearn.metrics import accuracy_score\n",
    "\n",
    "accuracy_score(y_test, rf_predictions)"
   ]
  },
  {
   "cell_type": "markdown",
   "metadata": {},
   "source": [
    "### TODO:\n",
    "- Should we undersample the four-seam fastballs?\n",
    "- Look at other features to add into the model\n",
    "- Try other models besides random forest\n",
    "- normalize between right and left handed pitch\n",
    "- "
   ]
  },
  {
   "cell_type": "markdown",
   "metadata": {},
   "source": [
    "### Results so far\n",
    "Looking at the predicted vs actual results, the model is doing a better job predicting some pitches compared to others.  The model in particular is having a tough time differentiating between sliders, sinkers, knucklecurves, two-seams, and cutters. We may have to undersample the four-seam fastballs so the other pitches can be better trained."
   ]
  },
  {
   "cell_type": "code",
   "execution_count": null,
   "metadata": {},
   "outputs": [],
   "source": [
    "from xgboost import XGBClassifier\n",
    "\n",
    "xgb = XGBClassifier(seed=1)\n",
    "xgb.fit(X_train, y_train)\n",
    "\n",
    "xgb_predictions = xgb.predict(X_test)"
   ]
  },
  {
   "cell_type": "code",
   "execution_count": null,
   "metadata": {},
   "outputs": [],
   "source": [
    "#Reverse factorize (converting y_pred from 0s,1s and 2s\n",
    "reversefactor = dict(zip(range(len(definitions)),definitions))\n",
    "y_test = np.vectorize(reversefactor.get)(y_test)\n",
    "xgb_predictions = np.vectorize(reversefactor.get)(xgb_predictions)\n",
    "# Making the Confusion Matrix\n",
    "print(pd.crosstab(y_test, xgb_predictions, rownames=['Actual Pitches'], colnames=['Predicted Pitches']))"
   ]
  },
  {
   "cell_type": "code",
   "execution_count": null,
   "metadata": {},
   "outputs": [],
   "source": [
    "accuracy_score(y_test, xgb_predictions)"
   ]
  },
  {
   "cell_type": "code",
   "execution_count": 63,
   "metadata": {},
   "outputs": [],
   "source": [
    "# Try undersampling the four-seam fastballs\n",
    "from imblearn.under_sampling import ClusterCentroids\n",
    "from imblearn.over_sampling import RandomOverSampler, SMOTE, ADASYN"
   ]
  },
  {
   "cell_type": "code",
   "execution_count": 66,
   "metadata": {
    "scrolled": true
   },
   "outputs": [],
   "source": [
    "#nsamp = 40000\n",
    "#categories = {5: nsamp, 9: nsamp, 11: nsamp}\n",
    "X_resampled, y_resampled = RandomOverSampler(sampling_strategy='not majority', random_state=69).fit_resample(X_train,y_train)\n",
    "#X_resampled, y_resampled = RandomOverSampler('not majority').fit_resample(X_train,y_train)"
   ]
  },
  {
   "cell_type": "code",
   "execution_count": 54,
   "metadata": {},
   "outputs": [
    {
     "data": {
      "text/plain": [
       "104120"
      ]
     },
     "execution_count": 54,
     "metadata": {},
     "output_type": "execute_result"
    }
   ],
   "source": [
    "len(X_resampled)"
   ]
  },
  {
   "cell_type": "code",
   "execution_count": null,
   "metadata": {},
   "outputs": [],
   "source": [
    "#list_y = list(y)\n",
    "#resample_dict = {k: list_y.count(k) for k in range(10)}"
   ]
  },
  {
   "cell_type": "code",
   "execution_count": null,
   "metadata": {},
   "outputs": [],
   "source": [
    "# Set Number of four seam fastballs (4) to 30000\n",
    "#resample_dict[4] = 30000"
   ]
  },
  {
   "cell_type": "code",
   "execution_count": null,
   "metadata": {},
   "outputs": [],
   "source": [
    "rus = ClusterCentroids(random_state=0, sampling_strategy=resample_dict)\n",
    "X_resampled, y_resampled = rus.fit_sample(X, y)"
   ]
  },
  {
   "cell_type": "code",
   "execution_count": 74,
   "metadata": {},
   "outputs": [],
   "source": [
    "from sklearn.ensemble import RandomForestClassifier\n",
    "\n",
    "rf = RandomForestClassifier(n_estimators=100,\n",
    "                           oob_score=True,\n",
    "                           random_state=0)\n",
    "\n",
    "rf.fit(X_resampled, y_resampled)\n",
    "\n",
    "rf_predictions = rf.predict(X_test)"
   ]
  },
  {
   "cell_type": "code",
   "execution_count": 78,
   "metadata": {},
   "outputs": [
    {
     "name": "stdout",
     "output_type": "stream",
     "text": [
      "Predicted Pitches    CH    CU   FC    FF  FS   FT   KC   SI    SL\n",
      "Actual Pitches                                                   \n",
      "CH                 1543     8    7    17  28   58    1   38    32\n",
      "CU                   14  1282    0     0   0    0   59    3   219\n",
      "EP                    0     1    0     0   0    0    0    0     0\n",
      "FC                    9     5  469   116   1    0    0    0   341\n",
      "FF                   27     0  105  5168   0  215    0  114    11\n",
      "FS                  100     0    0     0  93    4    0    6     9\n",
      "FT                   49     0    0   177   1  786    0  262     3\n",
      "KC                    1   155    0     0   0    0  121    1    16\n",
      "SI                   42     0    1   143   0  328    3  541     2\n",
      "SL                   41   207  214     4   9    1   14    1  2211\n"
     ]
    }
   ],
   "source": [
    "#Reverse factorize (converting y_pred from 0s,1s and 2s\n",
    "reversefactor = dict(zip(range(len(definitions)),definitions))\n",
    "y_update = np.vectorize(reversefactor.get)(y_test)\n",
    "rf_update = np.vectorize(reversefactor.get)(rf_predictions)\n",
    "# Making the Confusion Matrix\n",
    "print(pd.crosstab(y_update, rf_update, rownames=['Actual Pitches'], colnames=['Predicted Pitches']))"
   ]
  },
  {
   "cell_type": "code",
   "execution_count": 62,
   "metadata": {},
   "outputs": [
    {
     "data": {
      "text/plain": [
       "Counter({5: 10412,\n",
       "         0: 10412,\n",
       "         3: 10412,\n",
       "         4: 10412,\n",
       "         2: 10412,\n",
       "         7: 10412,\n",
       "         8: 10412,\n",
       "         6: 10412,\n",
       "         1: 10412,\n",
       "         9: 10412})"
      ]
     },
     "execution_count": 62,
     "metadata": {},
     "output_type": "execute_result"
    }
   ],
   "source": [
    "import collections\n",
    "collections.Counter(y_resampled)"
   ]
  },
  {
   "cell_type": "code",
   "execution_count": 96,
   "metadata": {},
   "outputs": [
    {
     "name": "stdout",
     "output_type": "stream",
     "text": [
      "Normalized confusion matrix\n"
     ]
    },
    {
     "data": {
      "image/png": "[encoded data removed]",
      "text/plain": [
       "<Figure size 1008x864 with 2 Axes>"
      ]
     },
     "metadata": {
      "needs_background": "light"
     },
     "output_type": "display_data"
    }
   ],
   "source": [
    "import itertools\n",
    "from sklearn.metrics import confusion_matrix\n",
    "\n",
    "def plot_confusion_matrix(cm, classes,\n",
    "                          normalize=False,\n",
    "                          title='Confusion matrix',\n",
    "                          cmap=plt.cm.Blues):\n",
    "    \"\"\"\n",
    "    This function prints and plots the confusion matrix.\n",
    "    Normalization can be applied by setting `normalize=True`.\n",
    "    \"\"\"\n",
    "    if normalize:\n",
    "        cm = cm.astype('float') / cm.sum(axis=1)[:, np.newaxis]\n",
    "        print(\"Normalized confusion matrix\")\n",
    "    else:\n",
    "        print('Confusion matrix, without normalization')\n",
    "\n",
    "    # print(cm)\n",
    "\n",
    "    plt.imshow(cm, interpolation='nearest', cmap=cmap)\n",
    "    plt.title(title)\n",
    "    plt.colorbar()\n",
    "    tick_marks = np.arange(len(classes))\n",
    "    plt.xticks(tick_marks, classes, rotation=90)\n",
    "    plt.yticks(tick_marks, classes)\n",
    "\n",
    "    fmt = '.2f' if normalize else 'd'\n",
    "    thresh = cm.max() / 2.\n",
    "    for i, j in itertools.product(range(cm.shape[0]), range(cm.shape[1])):\n",
    "        plt.text(j, i, format(cm[i, j], fmt),\n",
    "                 horizontalalignment=\"center\",\n",
    "                 color=\"white\" if cm[i, j] > thresh else \"black\")\n",
    "\n",
    "    plt.tight_layout()\n",
    "    plt.ylabel('True label')\n",
    "    plt.xlabel('Predicted label')\n",
    "\n",
    "\n",
    "cnf_matrix = confusion_matrix(y_update, rf_update)\n",
    "\n",
    "# Plot normalized confusion matrix\n",
    "fig = plt.figure()\n",
    "fig.set_size_inches(14, 12, forward=True)\n",
    "#fig.align_labels()\n",
    "\n",
    "# fig.subplots_adjust(left=0.0, right=1.0, bottom=0.0, top=1.0)\n",
    "plot_confusion_matrix(cnf_matrix, classes=list(set(data.pitch_type)), normalize=True,\n",
    "                      title='Normalized confusion matrix')\n",
    "\n",
    "#fig.savefig(\"txt_classification-smote\" + str(num_epochs) + \".png\", pad_inches=5.0)"
   ]
  },
  {
   "cell_type": "code",
   "execution_count": 41,
   "metadata": {},
   "outputs": [
    {
     "data": {
      "text/plain": [
       "0.7945296864576384"
      ]
     },
     "execution_count": 41,
     "metadata": {},
     "output_type": "execute_result"
    }
   ],
   "source": [
    "from sklearn.metrics import accuracy_score\n",
    "\n",
    "accuracy_score(y_update, rf_update)"
   ]
  },
  {
   "cell_type": "markdown",
   "metadata": {},
   "source": [
    "### Pitches we need to get better at\n",
    "- SI\n",
    "- FT\n",
    "- FS\n",
    "- FC"
   ]
  },
  {
   "cell_type": "code",
   "execution_count": 43,
   "metadata": {},
   "outputs": [
    {
     "data": {
      "text/html": [
       "<div>\n",
       "<style scoped>\n",
       "    .dataframe tbody tr th:only-of-type {\n",
       "        vertical-align: middle;\n",
       "    }\n",
       "\n",
       "    .dataframe tbody tr th {\n",
       "        vertical-align: top;\n",
       "    }\n",
       "\n",
       "    .dataframe thead th {\n",
       "        text-align: right;\n",
       "    }\n",
       "</style>\n",
       "<table border=\"1\" class=\"dataframe\">\n",
       "  <thead>\n",
       "    <tr style=\"text-align: right;\">\n",
       "      <th></th>\n",
       "      <th>pitch_type</th>\n",
       "      <th>release_speed</th>\n",
       "      <th>pfx_x</th>\n",
       "      <th>pfx_z</th>\n",
       "      <th>release_spin_rate</th>\n",
       "      <th>movement_x</th>\n",
       "      <th>movement_z</th>\n",
       "    </tr>\n",
       "  </thead>\n",
       "  <tbody>\n",
       "    <tr>\n",
       "      <th>0</th>\n",
       "      <td>0</td>\n",
       "      <td>92.2</td>\n",
       "      <td>-0.2042</td>\n",
       "      <td>0.8955</td>\n",
       "      <td>2347.0</td>\n",
       "      <td>-1.437999</td>\n",
       "      <td>5.252248</td>\n",
       "    </tr>\n",
       "    <tr>\n",
       "      <th>1</th>\n",
       "      <td>0</td>\n",
       "      <td>92.4</td>\n",
       "      <td>0.1079</td>\n",
       "      <td>0.7773</td>\n",
       "      <td>2371.0</td>\n",
       "      <td>0.790338</td>\n",
       "      <td>4.473654</td>\n",
       "    </tr>\n",
       "    <tr>\n",
       "      <th>2</th>\n",
       "      <td>0</td>\n",
       "      <td>92.4</td>\n",
       "      <td>0.2493</td>\n",
       "      <td>0.6392</td>\n",
       "      <td>2283.0</td>\n",
       "      <td>1.771752</td>\n",
       "      <td>3.410716</td>\n",
       "    </tr>\n",
       "    <tr>\n",
       "      <th>3</th>\n",
       "      <td>0</td>\n",
       "      <td>91.6</td>\n",
       "      <td>-0.0262</td>\n",
       "      <td>0.7692</td>\n",
       "      <td>2128.0</td>\n",
       "      <td>-0.174665</td>\n",
       "      <td>4.410602</td>\n",
       "    </tr>\n",
       "    <tr>\n",
       "      <th>4</th>\n",
       "      <td>1</td>\n",
       "      <td>82.5</td>\n",
       "      <td>0.2459</td>\n",
       "      <td>-1.3550</td>\n",
       "      <td>2812.0</td>\n",
       "      <td>1.672596</td>\n",
       "      <td>-11.288157</td>\n",
       "    </tr>\n",
       "  </tbody>\n",
       "</table>\n",
       "</div>"
      ],
      "text/plain": [
       "   pitch_type  release_speed   pfx_x   pfx_z  release_spin_rate  movement_x  \\\n",
       "0           0           92.2 -0.2042  0.8955             2347.0   -1.437999   \n",
       "1           0           92.4  0.1079  0.7773             2371.0    0.790338   \n",
       "2           0           92.4  0.2493  0.6392             2283.0    1.771752   \n",
       "3           0           91.6 -0.0262  0.7692             2128.0   -0.174665   \n",
       "4           1           82.5  0.2459 -1.3550             2812.0    1.672596   \n",
       "\n",
       "   movement_z  \n",
       "0    5.252248  \n",
       "1    4.473654  \n",
       "2    3.410716  \n",
       "3    4.410602  \n",
       "4  -11.288157  "
      ]
     },
     "execution_count": 43,
     "metadata": {},
     "output_type": "execute_result"
    }
   ],
   "source": [
    "data.head()"
   ]
  },
  {
   "cell_type": "markdown",
   "metadata": {},
   "source": [
    "### See if we can check the z_movement at different timepoints of the pitch. The idea is that the sinker only breaks at the end of the pitch"
   ]
  },
  {
   "cell_type": "code",
   "execution_count": null,
   "metadata": {},
   "outputs": [],
   "source": [
    "# Might have to try pfx vs x_movement"
   ]
  }
 ],
 "metadata": {
  "kernelspec": {
   "display_name": "Python 3",
   "language": "python",
   "name": "python3"
  },
  "language_info": {
   "codemirror_mode": {
    "name": "ipython",
    "version": 3
   },
   "file_extension": ".py",
   "mimetype": "text/x-python",
   "name": "python",
   "nbconvert_exporter": "python",
   "pygments_lexer": "ipython3",
   "version": "3.6.8"
  }
 },
 "nbformat": 4,
 "nbformat_minor": 2
}

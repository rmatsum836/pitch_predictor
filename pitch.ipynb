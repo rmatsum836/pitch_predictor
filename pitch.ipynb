{
 "cells": [
  {
   "cell_type": "code",
   "execution_count": null,
   "metadata": {},
   "outputs": [],
   "source": [
    "from pybaseball import statcast"
   ]
  },
  {
   "cell_type": "markdown",
   "metadata": {},
   "source": [
    "Get data from statcast using pybaseball"
   ]
  },
  {
   "cell_type": "code",
   "execution_count": null,
   "metadata": {},
   "outputs": [],
   "source": [
    "#start = '2017-05-01'\n",
    "# Use shorter time period so I can load this into memory\n",
    "start = '2019-10-01'\n",
    "end = '2019-10-06'\n",
    "data = statcast(start, end)"
   ]
  },
  {
   "cell_type": "code",
   "execution_count": null,
   "metadata": {},
   "outputs": [],
   "source": [
    "data.head()"
   ]
  },
  {
   "cell_type": "code",
   "execution_count": null,
   "metadata": {},
   "outputs": [],
   "source": [
    "data.columns"
   ]
  },
  {
   "cell_type": "markdown",
   "metadata": {},
   "source": [
    "Since we're trying to predict pitches, we need to get rid of many of these columns"
   ]
  },
  {
   "cell_type": "code",
   "execution_count": null,
   "metadata": {},
   "outputs": [],
   "source": [
    "columns = list(data.columns)\n",
    "columns_keep = ['pitch_type', 'release_speed', 'release_pos_x', 'release_pos_z',\n",
    "                'p_throws', 'pfx_x', 'pfx_z', 'plate_x', 'plate_z',\n",
    "               'zone', 'vx0', 'vy0', 'vz0', 'ax', 'ay', 'az', 'release_spin_rate', 'release_extension',\n",
    "                'release_pos_y'\n",
    "               ]"
   ]
  },
  {
   "cell_type": "code",
   "execution_count": null,
   "metadata": {},
   "outputs": [],
   "source": [
    "# Iterate through columns_keep and use pop() to remove the columns from `column`\n",
    "# We will the use data.drop([columns]) to remove the remaining columns from the data frame\n",
    "def remove_columns(all_columns, remove):\n",
    "    \"\"\"\n",
    "    Parameters\n",
    "    ----------\n",
    "    all_columns: list\n",
    "        all columns in a Pandas dataframe\n",
    "    remove: list\n",
    "        columns to remove from 'all_columns'\n",
    "    Returns\n",
    "    -------\n",
    "    all_columns: list\n",
    "        Updated columns after removal\n",
    "    \"\"\"\n",
    "    for col in remove:\n",
    "        all_columns.remove(col)\n",
    "    \n",
    "    return all_columns"
   ]
  },
  {
   "cell_type": "code",
   "execution_count": null,
   "metadata": {},
   "outputs": [],
   "source": [
    "col_to_drop = remove_columns(columns, columns_keep)"
   ]
  },
  {
   "cell_type": "code",
   "execution_count": null,
   "metadata": {},
   "outputs": [],
   "source": [
    "data = data.drop(col_to_drop, axis=1)"
   ]
  },
  {
   "cell_type": "code",
   "execution_count": null,
   "metadata": {},
   "outputs": [],
   "source": [
    "data.head()"
   ]
  },
  {
   "cell_type": "markdown",
   "metadata": {},
   "source": [
    "### Defining the columns:\n",
    "#### `release_speed`: Pitch velocities in mph\n",
    "#### `release_pos_x`: Horizontal release position of pitch from catcher's perspective \n",
    "#### `release_pos_z`: Vertical release position of pitch\n",
    "#### `zone`: Zone location of the ball when it cross the plate from the catcher's perspective\n",
    "#### `p_throws`: Handedness of pitcher\\n\n",
    "#### `pfx`: Horizontal (or vertical) movement of pitch in feet\n",
    "#### `plate_`: Position of ball when it reaches plate from catcher's perspective\n",
    "#### `vx,vy,vz`: velocity of pitch in feet per second\n",
    "#### `ax,ay,az`: acceleration of pitch, in feet per second^2\n",
    "#### `release_spin_rate`: Spin rate of pitch\n",
    "#### `release_extension`: Release extension of pitch in feet\n",
    "#### `release_pos_y`: Release position of pitch measured in feet from the catcher's perspective."
   ]
  },
  {
   "cell_type": "markdown",
   "metadata": {},
   "source": [
    "### Potential Features to add:\n",
    "#### movement: DIfference of `release_pos` and `plate_pos`"
   ]
  },
  {
   "cell_type": "code",
   "execution_count": null,
   "metadata": {},
   "outputs": [],
   "source": [
    "# Add movement\n",
    "import movement\n",
    "data['release_pos_y'] = 50"
   ]
  },
  {
   "cell_type": "code",
   "execution_count": null,
   "metadata": {},
   "outputs": [],
   "source": [
    "v_o = [data.vx0, data.vy0, data.vz0]\n",
    "p_o = [data.release_pos_x, data.release_pos_y, data.release_pos_z]\n",
    "a = [data.ax, data.ay, data.az]"
   ]
  },
  {
   "cell_type": "code",
   "execution_count": null,
   "metadata": {},
   "outputs": [],
   "source": [
    "dx, dz, dzg = movement.calc_movement(p_o, v_o, a)"
   ]
  },
  {
   "cell_type": "code",
   "execution_count": null,
   "metadata": {},
   "outputs": [],
   "source": [
    "data['movement_x'] = dx\n",
    "data['movement_z'] = dz"
   ]
  },
  {
   "cell_type": "code",
   "execution_count": null,
   "metadata": {},
   "outputs": [],
   "source": [
    "data.head()"
   ]
  },
  {
   "cell_type": "code",
   "execution_count": null,
   "metadata": {},
   "outputs": [],
   "source": [
    "data = data.dropna(subset=['pitch_type'])"
   ]
  },
  {
   "cell_type": "code",
   "execution_count": null,
   "metadata": {},
   "outputs": [],
   "source": [
    "pitch_types = list(data.pitch_type.values)"
   ]
  },
  {
   "cell_type": "code",
   "execution_count": null,
   "metadata": {},
   "outputs": [],
   "source": [
    "set(pitch_types)"
   ]
  },
  {
   "cell_type": "markdown",
   "metadata": {},
   "source": [
    "### Pitch Types\n",
    "#### `CH`: changeup\n",
    "#### `CU`:  curveball\n",
    "#### `EP`: ephus\n",
    "#### `FC`: cutter\n",
    "#### `FF`: four-seam\n",
    "#### `FS`: splitter\n",
    "#### `FT`: two-seam \n",
    "#### `KC`: knuckle-curve\n",
    "#### `SI`: sinker\n",
    "#### `SL`: slider"
   ]
  },
  {
   "cell_type": "markdown",
   "metadata": {},
   "source": [
    "Let's take a look at some distributions of several of these features"
   ]
  },
  {
   "cell_type": "code",
   "execution_count": null,
   "metadata": {},
   "outputs": [],
   "source": [
    "import numpy as np\n",
    "import matplotlib.pyplot as plt"
   ]
  },
  {
   "cell_type": "code",
   "execution_count": null,
   "metadata": {},
   "outputs": [],
   "source": [
    "speed_histo = plt.hist(data.release_speed, bins=300)"
   ]
  },
  {
   "cell_type": "markdown",
   "metadata": {},
   "source": [
    "There appears to be a distribution of pitches around 85 mph(off-speed) and a distribution around 93-4 mph (fastball)"
   ]
  },
  {
   "cell_type": "code",
   "execution_count": null,
   "metadata": {},
   "outputs": [],
   "source": [
    "num_pitches = len(set(pitch_types))\n",
    "pitches = list(set(pitch_types))\n",
    "fig, axes = plt.subplots(nrows=2, ncols=round(num_pitches/2), figsize=(20,6))\n",
    "k = 0\n",
    "for i in [0,1]:\n",
    "    for j in range(round(num_pitches/2)):\n",
    "        histo = axes[i,j].hist(data.release_speed[data.pitch_type == pitches[k]], label=pitches[k])\n",
    "        axes[i,j].legend()\n",
    "        k += 1"
   ]
  },
  {
   "cell_type": "markdown",
   "metadata": {},
   "source": [
    "### A Few notes on pitch types versus velocity:\n",
    "#### - Sinker, Four-seam, two-seam, and cutter have similar velocity distributions\n",
    "#### - curve, knuckle-curve, and changeup have similar velocity distributions\n",
    "#### - ephus pitches are hardely thrown, and when they are, their velocities are much lower than the other pitches"
   ]
  },
  {
   "cell_type": "markdown",
   "metadata": {},
   "source": [
    "Pitch movement: http://baseball.physics.illinois.edu/Movement.pdf"
   ]
  },
  {
   "cell_type": "code",
   "execution_count": null,
   "metadata": {},
   "outputs": [],
   "source": [
    "data.columns"
   ]
  },
  {
   "cell_type": "markdown",
   "metadata": {},
   "source": [
    "#### Movement: deviation of trajectory from a straight line without the effect of gravity"
   ]
  },
  {
   "cell_type": "code",
   "execution_count": null,
   "metadata": {},
   "outputs": [],
   "source": [
    "columns_keep = ['pitch_type', 'release_speed', 'pfx_x', 'pfx_z', 'release_spin_rate',\n",
    "                'movement_x', 'movement_z']\n",
    "columns = list(data.columns)"
   ]
  },
  {
   "cell_type": "code",
   "execution_count": null,
   "metadata": {},
   "outputs": [],
   "source": [
    "col_to_drop = remove_columns(columns, columns_keep)"
   ]
  },
  {
   "cell_type": "code",
   "execution_count": null,
   "metadata": {},
   "outputs": [],
   "source": [
    "data = data.drop(col_to_drop, axis=1)"
   ]
  },
  {
   "cell_type": "code",
   "execution_count": null,
   "metadata": {},
   "outputs": [],
   "source": [
    "y = data.pitch_type\n",
    "X = data.loc[:, data.columns != 'pitch_type']"
   ]
  },
  {
   "cell_type": "markdown",
   "metadata": {},
   "source": [
    "TODO: Look up appropriate models to use"
   ]
  },
  {
   "cell_type": "code",
   "execution_count": null,
   "metadata": {},
   "outputs": [],
   "source": []
  }
 ],
 "metadata": {
  "kernelspec": {
   "display_name": "Python 3",
   "language": "python",
   "name": "python3"
  },
  "language_info": {
   "codemirror_mode": {
    "name": "ipython",
    "version": 3
   },
   "file_extension": ".py",
   "mimetype": "text/x-python",
   "name": "python",
   "nbconvert_exporter": "python",
   "pygments_lexer": "ipython3",
   "version": "3.6.8"
  }
 },
 "nbformat": 4,
 "nbformat_minor": 2
}

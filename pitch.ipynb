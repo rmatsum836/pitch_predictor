{
 "cells": [
  {
   "cell_type": "code",
   "execution_count": 1,
   "metadata": {},
   "outputs": [],
   "source": [
    "from pybaseball import statcast"
   ]
  },
  {
   "cell_type": "markdown",
   "metadata": {},
   "source": [
    "Get data from statcast using pybaseball"
   ]
  },
  {
   "cell_type": "code",
   "execution_count": 2,
   "metadata": {},
   "outputs": [
    {
     "name": "stdout",
     "output_type": "stream",
     "text": [
      "This is a large query, it may take a moment to complete\n",
      "Completed sub-query from 2019-08-01 to 2019-08-06\n",
      "Completed sub-query from 2019-08-07 to 2019-08-12\n",
      "Completed sub-query from 2019-08-13 to 2019-08-18\n",
      "Completed sub-query from 2019-08-19 to 2019-08-24\n",
      "Completed sub-query from 2019-08-25 to 2019-08-30\n",
      "Completed sub-query from 2019-08-31 to 2019-09-05\n",
      "Completed sub-query from 2019-09-06 to 2019-09-11\n",
      "Completed sub-query from 2019-09-12 to 2019-09-17\n",
      "Completed sub-query from 2019-09-18 to 2019-09-23\n",
      "Completed sub-query from 2019-09-24 to 2019-09-29\n",
      "Completed sub-query from 2019-09-30 to 2019-10-05\n",
      "Completed sub-query from 2019-10-06 to 2019-10-06\n"
     ]
    }
   ],
   "source": [
    "#start = '2017-05-01'\n",
    "# Use shorter time period so I can load this into memory\n",
    "start = '2019-08-01'\n",
    "end = '2019-10-06'\n",
    "data = statcast(start, end)"
   ]
  },
  {
   "cell_type": "code",
   "execution_count": 3,
   "metadata": {},
   "outputs": [
    {
     "data": {
      "text/html": [
       "<div>\n",
       "<style scoped>\n",
       "    .dataframe tbody tr th:only-of-type {\n",
       "        vertical-align: middle;\n",
       "    }\n",
       "\n",
       "    .dataframe tbody tr th {\n",
       "        vertical-align: top;\n",
       "    }\n",
       "\n",
       "    .dataframe thead th {\n",
       "        text-align: right;\n",
       "    }\n",
       "</style>\n",
       "<table border=\"1\" class=\"dataframe\">\n",
       "  <thead>\n",
       "    <tr style=\"text-align: right;\">\n",
       "      <th></th>\n",
       "      <th>index</th>\n",
       "      <th>pitch_type</th>\n",
       "      <th>game_date</th>\n",
       "      <th>release_speed</th>\n",
       "      <th>release_pos_x</th>\n",
       "      <th>release_pos_z</th>\n",
       "      <th>player_name</th>\n",
       "      <th>batter</th>\n",
       "      <th>pitcher</th>\n",
       "      <th>events</th>\n",
       "      <th>...</th>\n",
       "      <th>home_score</th>\n",
       "      <th>away_score</th>\n",
       "      <th>bat_score</th>\n",
       "      <th>fld_score</th>\n",
       "      <th>post_away_score</th>\n",
       "      <th>post_home_score</th>\n",
       "      <th>post_bat_score</th>\n",
       "      <th>post_fld_score</th>\n",
       "      <th>if_fielding_alignment</th>\n",
       "      <th>of_fielding_alignment</th>\n",
       "    </tr>\n",
       "  </thead>\n",
       "  <tbody>\n",
       "    <tr>\n",
       "      <th>0</th>\n",
       "      <td>0</td>\n",
       "      <td>CU</td>\n",
       "      <td>2019-10-05</td>\n",
       "      <td>84.2</td>\n",
       "      <td>-2.4275</td>\n",
       "      <td>5.7084</td>\n",
       "      <td>Jonathan Loaisiga</td>\n",
       "      <td>593934.0</td>\n",
       "      <td>642528.0</td>\n",
       "      <td>strikeout</td>\n",
       "      <td>...</td>\n",
       "      <td>8.0</td>\n",
       "      <td>2.0</td>\n",
       "      <td>2.0</td>\n",
       "      <td>8.0</td>\n",
       "      <td>2.0</td>\n",
       "      <td>8.0</td>\n",
       "      <td>2.0</td>\n",
       "      <td>8.0</td>\n",
       "      <td>Infield shift</td>\n",
       "      <td>Standard</td>\n",
       "    </tr>\n",
       "    <tr>\n",
       "      <th>1</th>\n",
       "      <td>1</td>\n",
       "      <td>FF</td>\n",
       "      <td>2019-10-05</td>\n",
       "      <td>97.6</td>\n",
       "      <td>-2.8829</td>\n",
       "      <td>5.4358</td>\n",
       "      <td>Jonathan Loaisiga</td>\n",
       "      <td>593934.0</td>\n",
       "      <td>642528.0</td>\n",
       "      <td>NaN</td>\n",
       "      <td>...</td>\n",
       "      <td>8.0</td>\n",
       "      <td>2.0</td>\n",
       "      <td>2.0</td>\n",
       "      <td>8.0</td>\n",
       "      <td>2.0</td>\n",
       "      <td>8.0</td>\n",
       "      <td>2.0</td>\n",
       "      <td>8.0</td>\n",
       "      <td>Infield shift</td>\n",
       "      <td>Standard</td>\n",
       "    </tr>\n",
       "    <tr>\n",
       "      <th>2</th>\n",
       "      <td>2</td>\n",
       "      <td>FF</td>\n",
       "      <td>2019-10-05</td>\n",
       "      <td>96.4</td>\n",
       "      <td>-2.7657</td>\n",
       "      <td>5.5520</td>\n",
       "      <td>Jonathan Loaisiga</td>\n",
       "      <td>593934.0</td>\n",
       "      <td>642528.0</td>\n",
       "      <td>NaN</td>\n",
       "      <td>...</td>\n",
       "      <td>8.0</td>\n",
       "      <td>2.0</td>\n",
       "      <td>2.0</td>\n",
       "      <td>8.0</td>\n",
       "      <td>2.0</td>\n",
       "      <td>8.0</td>\n",
       "      <td>2.0</td>\n",
       "      <td>8.0</td>\n",
       "      <td>Infield shift</td>\n",
       "      <td>Standard</td>\n",
       "    </tr>\n",
       "    <tr>\n",
       "      <th>3</th>\n",
       "      <td>3</td>\n",
       "      <td>CU</td>\n",
       "      <td>2019-10-05</td>\n",
       "      <td>83.4</td>\n",
       "      <td>-2.6126</td>\n",
       "      <td>5.7184</td>\n",
       "      <td>Jonathan Loaisiga</td>\n",
       "      <td>593934.0</td>\n",
       "      <td>642528.0</td>\n",
       "      <td>NaN</td>\n",
       "      <td>...</td>\n",
       "      <td>8.0</td>\n",
       "      <td>2.0</td>\n",
       "      <td>2.0</td>\n",
       "      <td>8.0</td>\n",
       "      <td>2.0</td>\n",
       "      <td>8.0</td>\n",
       "      <td>2.0</td>\n",
       "      <td>8.0</td>\n",
       "      <td>Infield shift</td>\n",
       "      <td>Standard</td>\n",
       "    </tr>\n",
       "    <tr>\n",
       "      <th>4</th>\n",
       "      <td>4</td>\n",
       "      <td>CU</td>\n",
       "      <td>2019-10-05</td>\n",
       "      <td>83.8</td>\n",
       "      <td>-2.5627</td>\n",
       "      <td>5.7197</td>\n",
       "      <td>Jonathan Loaisiga</td>\n",
       "      <td>593934.0</td>\n",
       "      <td>642528.0</td>\n",
       "      <td>NaN</td>\n",
       "      <td>...</td>\n",
       "      <td>8.0</td>\n",
       "      <td>2.0</td>\n",
       "      <td>2.0</td>\n",
       "      <td>8.0</td>\n",
       "      <td>2.0</td>\n",
       "      <td>8.0</td>\n",
       "      <td>2.0</td>\n",
       "      <td>8.0</td>\n",
       "      <td>Infield shift</td>\n",
       "      <td>Standard</td>\n",
       "    </tr>\n",
       "  </tbody>\n",
       "</table>\n",
       "<p>5 rows × 90 columns</p>\n",
       "</div>"
      ],
      "text/plain": [
       "   index pitch_type  game_date  release_speed  release_pos_x  release_pos_z  \\\n",
       "0      0         CU 2019-10-05           84.2        -2.4275         5.7084   \n",
       "1      1         FF 2019-10-05           97.6        -2.8829         5.4358   \n",
       "2      2         FF 2019-10-05           96.4        -2.7657         5.5520   \n",
       "3      3         CU 2019-10-05           83.4        -2.6126         5.7184   \n",
       "4      4         CU 2019-10-05           83.8        -2.5627         5.7197   \n",
       "\n",
       "         player_name    batter   pitcher     events  ... home_score  \\\n",
       "0  Jonathan Loaisiga  593934.0  642528.0  strikeout  ...        8.0   \n",
       "1  Jonathan Loaisiga  593934.0  642528.0        NaN  ...        8.0   \n",
       "2  Jonathan Loaisiga  593934.0  642528.0        NaN  ...        8.0   \n",
       "3  Jonathan Loaisiga  593934.0  642528.0        NaN  ...        8.0   \n",
       "4  Jonathan Loaisiga  593934.0  642528.0        NaN  ...        8.0   \n",
       "\n",
       "   away_score  bat_score  fld_score  post_away_score  post_home_score  \\\n",
       "0         2.0        2.0        8.0              2.0              8.0   \n",
       "1         2.0        2.0        8.0              2.0              8.0   \n",
       "2         2.0        2.0        8.0              2.0              8.0   \n",
       "3         2.0        2.0        8.0              2.0              8.0   \n",
       "4         2.0        2.0        8.0              2.0              8.0   \n",
       "\n",
       "  post_bat_score post_fld_score if_fielding_alignment of_fielding_alignment  \n",
       "0            2.0            8.0         Infield shift              Standard  \n",
       "1            2.0            8.0         Infield shift              Standard  \n",
       "2            2.0            8.0         Infield shift              Standard  \n",
       "3            2.0            8.0         Infield shift              Standard  \n",
       "4            2.0            8.0         Infield shift              Standard  \n",
       "\n",
       "[5 rows x 90 columns]"
      ]
     },
     "execution_count": 3,
     "metadata": {},
     "output_type": "execute_result"
    }
   ],
   "source": [
    "data.head()"
   ]
  },
  {
   "cell_type": "code",
   "execution_count": 4,
   "metadata": {},
   "outputs": [
    {
     "data": {
      "text/plain": [
       "Index(['index', 'pitch_type', 'game_date', 'release_speed', 'release_pos_x',\n",
       "       'release_pos_z', 'player_name', 'batter', 'pitcher', 'events',\n",
       "       'description', 'spin_dir', 'spin_rate_deprecated',\n",
       "       'break_angle_deprecated', 'break_length_deprecated', 'zone', 'des',\n",
       "       'game_type', 'stand', 'p_throws', 'home_team', 'away_team', 'type',\n",
       "       'hit_location', 'bb_type', 'balls', 'strikes', 'game_year', 'pfx_x',\n",
       "       'pfx_z', 'plate_x', 'plate_z', 'on_3b', 'on_2b', 'on_1b',\n",
       "       'outs_when_up', 'inning', 'inning_topbot', 'hc_x', 'hc_y',\n",
       "       'tfs_deprecated', 'tfs_zulu_deprecated', 'fielder_2', 'umpire', 'sv_id',\n",
       "       'vx0', 'vy0', 'vz0', 'ax', 'ay', 'az', 'sz_top', 'sz_bot',\n",
       "       'hit_distance_sc', 'launch_speed', 'launch_angle', 'effective_speed',\n",
       "       'release_spin_rate', 'release_extension', 'game_pk', 'pitcher.1',\n",
       "       'fielder_2.1', 'fielder_3', 'fielder_4', 'fielder_5', 'fielder_6',\n",
       "       'fielder_7', 'fielder_8', 'fielder_9', 'release_pos_y',\n",
       "       'estimated_ba_using_speedangle', 'estimated_woba_using_speedangle',\n",
       "       'woba_value', 'woba_denom', 'babip_value', 'iso_value',\n",
       "       'launch_speed_angle', 'at_bat_number', 'pitch_number', 'pitch_name',\n",
       "       'home_score', 'away_score', 'bat_score', 'fld_score', 'post_away_score',\n",
       "       'post_home_score', 'post_bat_score', 'post_fld_score',\n",
       "       'if_fielding_alignment', 'of_fielding_alignment'],\n",
       "      dtype='object')"
      ]
     },
     "execution_count": 4,
     "metadata": {},
     "output_type": "execute_result"
    }
   ],
   "source": [
    "data.columns"
   ]
  },
  {
   "cell_type": "markdown",
   "metadata": {},
   "source": [
    "Since we're trying to predict pitches, we need to get rid of many of these columns"
   ]
  },
  {
   "cell_type": "code",
   "execution_count": 5,
   "metadata": {},
   "outputs": [],
   "source": [
    "columns = list(data.columns)\n",
    "columns_keep = ['pitch_type', 'release_speed', 'release_pos_x', 'release_pos_z',\n",
    "                'p_throws', 'pfx_x', 'pfx_z', 'plate_x', 'plate_z',\n",
    "               'zone', 'vx0', 'vy0', 'vz0', 'ax', 'ay', 'az', 'release_spin_rate', 'release_extension',\n",
    "                'release_pos_y'\n",
    "               ]"
   ]
  },
  {
   "cell_type": "code",
   "execution_count": 6,
   "metadata": {},
   "outputs": [],
   "source": [
    "# Iterate through columns_keep and use pop() to remove the columns from `column`\n",
    "# We will the use data.drop([columns]) to remove the remaining columns from the data frame\n",
    "def remove_columns(all_columns, remove):\n",
    "    \"\"\"\n",
    "    Parameters\n",
    "    ----------\n",
    "    all_columns: list\n",
    "        all columns in a Pandas dataframe\n",
    "    remove: list\n",
    "        columns to remove from 'all_columns'\n",
    "    Returns\n",
    "    -------\n",
    "    all_columns: list\n",
    "        Updated columns after removal\n",
    "    \"\"\"\n",
    "    for col in remove:\n",
    "        all_columns.remove(col)\n",
    "    \n",
    "    return all_columns"
   ]
  },
  {
   "cell_type": "code",
   "execution_count": 7,
   "metadata": {},
   "outputs": [],
   "source": [
    "col_to_drop = remove_columns(columns, columns_keep)"
   ]
  },
  {
   "cell_type": "code",
   "execution_count": 8,
   "metadata": {},
   "outputs": [],
   "source": [
    "data = data.drop(col_to_drop, axis=1)"
   ]
  },
  {
   "cell_type": "code",
   "execution_count": 9,
   "metadata": {},
   "outputs": [
    {
     "data": {
      "text/html": [
       "<div>\n",
       "<style scoped>\n",
       "    .dataframe tbody tr th:only-of-type {\n",
       "        vertical-align: middle;\n",
       "    }\n",
       "\n",
       "    .dataframe tbody tr th {\n",
       "        vertical-align: top;\n",
       "    }\n",
       "\n",
       "    .dataframe thead th {\n",
       "        text-align: right;\n",
       "    }\n",
       "</style>\n",
       "<table border=\"1\" class=\"dataframe\">\n",
       "  <thead>\n",
       "    <tr style=\"text-align: right;\">\n",
       "      <th></th>\n",
       "      <th>pitch_type</th>\n",
       "      <th>release_speed</th>\n",
       "      <th>release_pos_x</th>\n",
       "      <th>release_pos_z</th>\n",
       "      <th>zone</th>\n",
       "      <th>p_throws</th>\n",
       "      <th>pfx_x</th>\n",
       "      <th>pfx_z</th>\n",
       "      <th>plate_x</th>\n",
       "      <th>plate_z</th>\n",
       "      <th>vx0</th>\n",
       "      <th>vy0</th>\n",
       "      <th>vz0</th>\n",
       "      <th>ax</th>\n",
       "      <th>ay</th>\n",
       "      <th>az</th>\n",
       "      <th>release_spin_rate</th>\n",
       "      <th>release_extension</th>\n",
       "      <th>release_pos_y</th>\n",
       "    </tr>\n",
       "  </thead>\n",
       "  <tbody>\n",
       "    <tr>\n",
       "      <th>0</th>\n",
       "      <td>CU</td>\n",
       "      <td>84.2</td>\n",
       "      <td>-2.4275</td>\n",
       "      <td>5.7084</td>\n",
       "      <td>14.0</td>\n",
       "      <td>R</td>\n",
       "      <td>0.7925</td>\n",
       "      <td>-0.0736</td>\n",
       "      <td>1.4830</td>\n",
       "      <td>0.9027</td>\n",
       "      <td>7.4552</td>\n",
       "      <td>-122.3205</td>\n",
       "      <td>-4.5537</td>\n",
       "      <td>6.2966</td>\n",
       "      <td>24.6117</td>\n",
       "      <td>-32.2287</td>\n",
       "      <td>2735.0</td>\n",
       "      <td>5.817</td>\n",
       "      <td>54.6827</td>\n",
       "    </tr>\n",
       "    <tr>\n",
       "      <th>1</th>\n",
       "      <td>FF</td>\n",
       "      <td>97.6</td>\n",
       "      <td>-2.8829</td>\n",
       "      <td>5.4358</td>\n",
       "      <td>6.0</td>\n",
       "      <td>R</td>\n",
       "      <td>-0.8580</td>\n",
       "      <td>1.1823</td>\n",
       "      <td>0.2955</td>\n",
       "      <td>2.6937</td>\n",
       "      <td>10.5015</td>\n",
       "      <td>-141.7894</td>\n",
       "      <td>-4.5775</td>\n",
       "      <td>-13.8944</td>\n",
       "      <td>31.2818</td>\n",
       "      <td>-15.4201</td>\n",
       "      <td>2445.0</td>\n",
       "      <td>6.294</td>\n",
       "      <td>54.2057</td>\n",
       "    </tr>\n",
       "    <tr>\n",
       "      <th>2</th>\n",
       "      <td>FF</td>\n",
       "      <td>96.4</td>\n",
       "      <td>-2.7657</td>\n",
       "      <td>5.5520</td>\n",
       "      <td>11.0</td>\n",
       "      <td>R</td>\n",
       "      <td>-0.4666</td>\n",
       "      <td>1.3073</td>\n",
       "      <td>-0.2339</td>\n",
       "      <td>5.9665</td>\n",
       "      <td>7.8076</td>\n",
       "      <td>-140.2144</td>\n",
       "      <td>3.6831</td>\n",
       "      <td>-7.8654</td>\n",
       "      <td>29.9763</td>\n",
       "      <td>-15.7979</td>\n",
       "      <td>2455.0</td>\n",
       "      <td>6.437</td>\n",
       "      <td>54.0626</td>\n",
       "    </tr>\n",
       "    <tr>\n",
       "      <th>3</th>\n",
       "      <td>CU</td>\n",
       "      <td>83.4</td>\n",
       "      <td>-2.6126</td>\n",
       "      <td>5.7184</td>\n",
       "      <td>13.0</td>\n",
       "      <td>R</td>\n",
       "      <td>1.0097</td>\n",
       "      <td>-0.6510</td>\n",
       "      <td>-0.5133</td>\n",
       "      <td>1.5812</td>\n",
       "      <td>2.8603</td>\n",
       "      <td>-121.4015</td>\n",
       "      <td>-1.8295</td>\n",
       "      <td>9.2344</td>\n",
       "      <td>23.1677</td>\n",
       "      <td>-38.3727</td>\n",
       "      <td>2795.0</td>\n",
       "      <td>5.707</td>\n",
       "      <td>54.7924</td>\n",
       "    </tr>\n",
       "    <tr>\n",
       "      <th>4</th>\n",
       "      <td>CU</td>\n",
       "      <td>83.8</td>\n",
       "      <td>-2.5627</td>\n",
       "      <td>5.7197</td>\n",
       "      <td>6.0</td>\n",
       "      <td>R</td>\n",
       "      <td>0.6595</td>\n",
       "      <td>-0.5981</td>\n",
       "      <td>0.3610</td>\n",
       "      <td>2.5129</td>\n",
       "      <td>5.4282</td>\n",
       "      <td>-121.9816</td>\n",
       "      <td>0.0995</td>\n",
       "      <td>5.4905</td>\n",
       "      <td>22.2550</td>\n",
       "      <td>-38.2974</td>\n",
       "      <td>2743.0</td>\n",
       "      <td>5.747</td>\n",
       "      <td>54.7525</td>\n",
       "    </tr>\n",
       "  </tbody>\n",
       "</table>\n",
       "</div>"
      ],
      "text/plain": [
       "  pitch_type  release_speed  release_pos_x  release_pos_z  zone p_throws  \\\n",
       "0         CU           84.2        -2.4275         5.7084  14.0        R   \n",
       "1         FF           97.6        -2.8829         5.4358   6.0        R   \n",
       "2         FF           96.4        -2.7657         5.5520  11.0        R   \n",
       "3         CU           83.4        -2.6126         5.7184  13.0        R   \n",
       "4         CU           83.8        -2.5627         5.7197   6.0        R   \n",
       "\n",
       "    pfx_x   pfx_z  plate_x  plate_z      vx0       vy0     vz0       ax  \\\n",
       "0  0.7925 -0.0736   1.4830   0.9027   7.4552 -122.3205 -4.5537   6.2966   \n",
       "1 -0.8580  1.1823   0.2955   2.6937  10.5015 -141.7894 -4.5775 -13.8944   \n",
       "2 -0.4666  1.3073  -0.2339   5.9665   7.8076 -140.2144  3.6831  -7.8654   \n",
       "3  1.0097 -0.6510  -0.5133   1.5812   2.8603 -121.4015 -1.8295   9.2344   \n",
       "4  0.6595 -0.5981   0.3610   2.5129   5.4282 -121.9816  0.0995   5.4905   \n",
       "\n",
       "        ay       az  release_spin_rate  release_extension  release_pos_y  \n",
       "0  24.6117 -32.2287             2735.0              5.817        54.6827  \n",
       "1  31.2818 -15.4201             2445.0              6.294        54.2057  \n",
       "2  29.9763 -15.7979             2455.0              6.437        54.0626  \n",
       "3  23.1677 -38.3727             2795.0              5.707        54.7924  \n",
       "4  22.2550 -38.2974             2743.0              5.747        54.7525  "
      ]
     },
     "execution_count": 9,
     "metadata": {},
     "output_type": "execute_result"
    }
   ],
   "source": [
    "data.head()"
   ]
  },
  {
   "cell_type": "markdown",
   "metadata": {},
   "source": [
    "### Defining the columns:\n",
    "#### `release_speed`: Pitch velocities in mph\n",
    "#### `release_pos_x`: Horizontal release position of pitch from catcher's perspective \n",
    "#### `release_pos_z`: Vertical release position of pitch\n",
    "#### `zone`: Zone location of the ball when it cross the plate from the catcher's perspective\n",
    "#### `p_throws`: Handedness of pitcher\\n\n",
    "#### `pfx`: Horizontal (or vertical) movement of pitch in feet\n",
    "#### `plate_`: Position of ball when it reaches plate from catcher's perspective\n",
    "#### `vx,vy,vz`: velocity of pitch in feet per second\n",
    "#### `ax,ay,az`: acceleration of pitch, in feet per second^2\n",
    "#### `release_spin_rate`: Spin rate of pitch\n",
    "#### `release_extension`: Release extension of pitch in feet\n",
    "#### `release_pos_y`: Release position of pitch measured in feet from the catcher's perspective."
   ]
  },
  {
   "cell_type": "markdown",
   "metadata": {},
   "source": [
    "### Potential Features to add:\n",
    "#### movement: DIfference of `release_pos` and `plate_pos`"
   ]
  },
  {
   "cell_type": "code",
   "execution_count": 12,
   "metadata": {},
   "outputs": [],
   "source": [
    "data = data.dropna(subset=['pitch_type'])"
   ]
  },
  {
   "cell_type": "code",
   "execution_count": 22,
   "metadata": {},
   "outputs": [],
   "source": [
    "pitch_types = list(data.pitch_type.values)"
   ]
  },
  {
   "cell_type": "code",
   "execution_count": 27,
   "metadata": {},
   "outputs": [
    {
     "data": {
      "text/plain": [
       "{'CH', 'CU', 'EP', 'FC', 'FF', 'FS', 'FT', 'KC', 'SI', 'SL'}"
      ]
     },
     "execution_count": 27,
     "metadata": {},
     "output_type": "execute_result"
    }
   ],
   "source": [
    "set(pitch_types)"
   ]
  },
  {
   "cell_type": "markdown",
   "metadata": {},
   "source": [
    "### Pitch Types\n",
    "#### `CH`: changeup\n",
    "#### `CU`:  curveball\n",
    "#### `EP`: ephus\n",
    "#### `FC`: cutter\n",
    "#### `FF`: four-seam\n",
    "#### `FS`: splitter\n",
    "#### `FT`: two-seam \n",
    "#### `KC`: knuckle-curve\n",
    "#### `SI`: sinker\n",
    "#### `SL`: slider"
   ]
  },
  {
   "cell_type": "markdown",
   "metadata": {},
   "source": [
    "Let's take a look at some distributions of several of these features"
   ]
  },
  {
   "cell_type": "code",
   "execution_count": 30,
   "metadata": {},
   "outputs": [],
   "source": [
    "import numpy as np\n",
    "import matplotlib.pyplot as plt"
   ]
  },
  {
   "cell_type": "code",
   "execution_count": null,
   "metadata": {},
   "outputs": [],
   "source": [
    "speed_histo = plt.hist(data.release_speed, bins=300)"
   ]
  },
  {
   "cell_type": "markdown",
   "metadata": {},
   "source": [
    "There appears to be a distribution of pitches around 85 mph(off-speed) and a distribution around 93-4 mph (fastball)"
   ]
  },
  {
   "cell_type": "code",
   "execution_count": 58,
   "metadata": {},
   "outputs": [
    {
     "data": {
      "image/png": "[encoded data removed]",
      "text/plain": [
       "<Figure size 1440x432 with 10 Axes>"
      ]
     },
     "metadata": {
      "needs_background": "light"
     },
     "output_type": "display_data"
    }
   ],
   "source": [
    "num_pitches = len(set(pitch_types))\n",
    "pitches = list(set(pitch_types))\n",
    "fig, axes = plt.subplots(nrows=2, ncols=round(num_pitches/2), figsize=(20,6))\n",
    "k = 0\n",
    "for i in [0,1]:\n",
    "    for j in range(round(num_pitches/2)):\n",
    "        histo = axes[i,j].hist(data.release_speed[data.pitch_type == pitches[k]], label=pitches[k])\n",
    "        axes[i,j].legend()\n",
    "        k += 1"
   ]
  },
  {
   "cell_type": "markdown",
   "metadata": {},
   "source": [
    "### A Few notes on pitch types versus velocity:\n",
    "#### - Sinker, Four-seam, two-seam, and cutter have similar velocity distributions\n",
    "#### - curve, knuckle-curve, and changeup have similar velocity distributions\n",
    "#### - ephus pitches are hardely thrown, and when they are, their velocities are much lower than the other pitches"
   ]
  },
  {
   "cell_type": "markdown",
   "metadata": {},
   "source": [
    "Pitch movement: http://baseball.physics.illinois.edu/Movement.pdf"
   ]
  },
  {
   "cell_type": "markdown",
   "metadata": {},
   "source": [
    "#### Movement: deviation of trajectory from a straight line without the effect of gravity"
   ]
  },
  {
   "cell_type": "code",
   "execution_count": null,
   "metadata": {},
   "outputs": [],
   "source": []
  }
 ],
 "metadata": {
  "kernelspec": {
   "display_name": "Python 3",
   "language": "python",
   "name": "python3"
  },
  "language_info": {
   "codemirror_mode": {
    "name": "ipython",
    "version": 3
   },
   "file_extension": ".py",
   "mimetype": "text/x-python",
   "name": "python",
   "nbconvert_exporter": "python",
   "pygments_lexer": "ipython3",
   "version": "3.6.8"
  }
 },
 "nbformat": 4,
 "nbformat_minor": 2
}
